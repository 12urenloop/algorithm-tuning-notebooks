{
 "cells": [
  {
   "cell_type": "code",
   "execution_count": 174,
   "metadata": {
    "collapsed": true,
    "pycharm": {
     "name": "#%%\n"
    }
   },
   "outputs": [],
   "source": [
    "import numpy as np\n",
    "from hmmlearn import hmm\n",
    "from hmmlearn.base import ConvergenceMonitor\n",
    "from tqdm import tqdm"
   ]
  },
  {
   "cell_type": "code",
   "execution_count": 4,
   "outputs": [],
   "source": [
    "from requests import get as _get\n",
    "\n",
    "BASE_URL = 'http://localhost:8080'\n",
    "\n",
    "\n",
    "def get(url: str) -> list:\n",
    "    l = _get(f'{BASE_URL}/{url}').json()\n",
    "    print(l[0])\n",
    "    print(f'Fetched {len(l)} items')\n",
    "    return l"
   ],
   "metadata": {
    "collapsed": false,
    "pycharm": {
     "name": "#%%\n"
    }
   }
  },
  {
   "cell_type": "code",
   "execution_count": 5,
   "outputs": [
    {
     "name": "stdout",
     "output_type": "stream",
     "text": [
      "{'id': 479017, 'batonId': 15, 'stationId': 9, 'rssi': -95, 'battery': 92.0, 'uptimeMs': 554087, 'remoteId': 1, 'timestamp': 1650975012000}\n",
      "Fetched 2401946 items\n"
     ]
    }
   ],
   "source": [
    "detections = sorted(get('detection'), key=lambda x: x[\"timestamp\"])"
   ],
   "metadata": {
    "collapsed": false,
    "pycharm": {
     "name": "#%%\n"
    }
   }
  },
  {
   "cell_type": "code",
   "execution_count": 6,
   "outputs": [
    {
     "name": "stdout",
     "output_type": "stream",
     "text": [
      "{'id': 2, 'name': 'O', 'mac': '5a:45:55:53:00:00'}\n",
      "Fetched 22 items\n"
     ]
    }
   ],
   "source": [
    "batons = get('baton')"
   ],
   "metadata": {
    "collapsed": false,
    "pycharm": {
     "name": "#%%\n"
    }
   }
  },
  {
   "cell_type": "code",
   "execution_count": 7,
   "outputs": [
    {
     "name": "stdout",
     "output_type": "stream",
     "text": [
      "{'id': 1, 'teamId': 1, 'previousBatonId': None, 'newBatonId': 23, 'timestamp': 1651012254359}\n",
      "Fetched 73 items\n"
     ]
    }
   ],
   "source": [
    "baton_switchovers = sorted(get('batonswitchover'), key=lambda x: x[\"timestamp\"])"
   ],
   "metadata": {
    "collapsed": false,
    "pycharm": {
     "name": "#%%\n"
    }
   }
  },
  {
   "cell_type": "code",
   "execution_count": 8,
   "outputs": [
    {
     "name": "stdout",
     "output_type": "stream",
     "text": [
      "{'id': 2, 'name': 'station 1', 'distanceFromStart': 11.0, 'isBroken': False, 'url': 'http://172.12.50.101:8000'}\n",
      "Fetched 7 items\n"
     ]
    }
   ],
   "source": [
    "stations = get('station')"
   ],
   "metadata": {
    "collapsed": false,
    "pycharm": {
     "name": "#%%\n"
    }
   }
  },
  {
   "cell_type": "code",
   "execution_count": 9,
   "outputs": [
    {
     "name": "stdout",
     "output_type": "stream",
     "text": [
      "{'id': 1, 'name': 'HILOK', 'batonId': 18}\n",
      "Fetched 17 items\n"
     ]
    }
   ],
   "source": [
    "teams = get('team')"
   ],
   "metadata": {
    "collapsed": false,
    "pycharm": {
     "name": "#%%\n"
    }
   }
  },
  {
   "cell_type": "code",
   "execution_count": 251,
   "outputs": [],
   "source": [
    "team_detections: dict[int, list] = {team[\"id\"]: [] for team in teams}\n",
    "team_by_id: dict[int, dict] = {team[\"id\"]: team for team in teams}\n",
    "baton_team: dict[int, dict] = {}\n",
    "\n",
    "switchover_index = 0\n",
    "for detection in detections:\n",
    "    while switchover_index < len(baton_switchovers) and baton_switchovers[switchover_index][\"timestamp\"] < detection[\n",
    "        \"timestamp\"]:\n",
    "        switchover = baton_switchovers[switchover_index]\n",
    "        baton_team[switchover[\"newBatonId\"]] = team_by_id[switchover[\"teamId\"]]\n",
    "        switchover_index += 1\n",
    "\n",
    "    if detection[\"batonId\"] in baton_team:\n",
    "        if detection[\"rssi\"] > -75:\n",
    "            current_detections = team_detections[baton_team[detection[\"batonId\"]][\"id\"]]\n",
    "            if len(current_detections) > 0 and current_detections[-1][\"timestamp\"] == detection[\"timestamp\"]:\n",
    "                if current_detections[-1][\"rssi\"] < detection[\"rssi\"]:\n",
    "                    current_detections[-1] = detection\n",
    "            else:\n",
    "                current_detections.append(detection)"
   ],
   "metadata": {
    "collapsed": false,
    "pycharm": {
     "name": "#%%\n"
    }
   }
  },
  {
   "cell_type": "code",
   "execution_count": 194,
   "outputs": [
    {
     "name": "stdout",
     "output_type": "stream",
     "text": [
      "{1: 35803, 3: 31501, 4: 27289, 5: 34107, 8: 34316, 9: 29657, 10: 32160, 11: 30749, 12: 31462, 13: 29959, 14: 30143, 17: 24776, 7: 30979, 22: 36676, 6: 31973, 2: 29907, 16: 28629}\n"
     ]
    }
   ],
   "source": [
    "print({k: len(v) for k, v in team_detections.items()})"
   ],
   "metadata": {
    "collapsed": false,
    "pycharm": {
     "name": "#%%\n"
    }
   }
  },
  {
   "cell_type": "code",
   "execution_count": 265,
   "outputs": [
    {
     "data": {
      "text/plain": "ConvergenceMonitor(\n    history=[-19701.630445676125, -11575.934085030913, -11145.653186318828, -11105.002855572995, -11095.971895066616, -11093.064062373169, -11091.935464392152, -11091.452552853838, -11091.233446249087, -11091.129551025231, -11091.078459015698, -11091.05253373978, -11091.039005785087, -11091.031762857881],\n    iter=14,\n    n_iter=1000,\n    tol=0.01,\n    verbose=False,\n)"
     },
     "execution_count": 265,
     "metadata": {},
     "output_type": "execute_result"
    }
   ],
   "source": [
    "station_to_emission = {v: k for k, v in enumerate([station[\"id\"] for station in stations])}\n",
    "data = np.array([[station_to_emission[detection[\"stationId\"]] for detection in team_detections[1]]])\n",
    "transmat = np.array([\n",
    "    [0.8, 0.1, 0., 0., 0., 0., 0.1],\n",
    "    [0.1, 0.8, 0.1, 0., 0., 0., 0.],\n",
    "    [0., 0.1, 0.8, 0.1, 0., 0., 0.],\n",
    "    [0., 0., 0.1, 0.8, 0.1, 0., 0.],\n",
    "    [0., 0., 0., 0.1, 0.8, 0.1, 0.],\n",
    "    [0., 0., 0., 0., 0.1, 0.8, 0.1],\n",
    "    [0.1, 0., 0., 0., 0., 0.1, 0.8]\n",
    "])\n",
    "emissionprob = np.array([\n",
    "    [0.76, 0.04, 0.04, 0.04, 0.04, 0.04, 0.04],\n",
    "    [0.04, 0.76, 0.04, 0.04, 0.04, 0.04, 0.04],\n",
    "    [0.04, 0.04, 0.76, 0.04, 0.04, 0.04, 0.04],\n",
    "    [0.04, 0.04, 0.04, 0.76, 0.04, 0.04, 0.04],\n",
    "    [0.04, 0.04, 0.04, 0.04, 0.76, 0.04, 0.04],\n",
    "    [0.04, 0.04, 0.04, 0.04, 0.04, 0.76, 0.04],\n",
    "    [0.04, 0.04, 0.04, 0.04, 0.04, 0.04, 0.76],\n",
    "])\n",
    "\n",
    "model = hmm.CategoricalHMM(n_components=7, n_iter=1000, init_params=\"cs\")\n",
    "model.transmat_ = transmat.copy()\n",
    "model.emissionprob_ = emissionprob.copy()\n",
    "model.monitor_ = ConvergenceMonitor(model.monitor_.tol, model.monitor_.n_iter, model.monitor_.verbose)\n",
    "\n",
    "model.fit(data)\n",
    "model.monitor_"
   ],
   "metadata": {
    "collapsed": false,
    "pycharm": {
     "name": "#%%\n"
    }
   }
  },
  {
   "cell_type": "code",
   "execution_count": 253,
   "outputs": [
    {
     "data": {
      "text/plain": "array([0.00000000e+000, 0.00000000e+000, 1.49383360e-097, 1.00000000e+000,\n       6.25797576e-022, 8.33325223e-143, 0.00000000e+000])"
     },
     "execution_count": 253,
     "metadata": {},
     "output_type": "execute_result"
    }
   ],
   "source": [
    "model.startprob_"
   ],
   "metadata": {
    "collapsed": false,
    "pycharm": {
     "name": "#%%\n"
    }
   }
  },
  {
   "cell_type": "code",
   "execution_count": 254,
   "outputs": [
    {
     "data": {
      "text/plain": "(array([[3],\n        [3],\n        [3],\n        [4],\n        [4],\n        [4],\n        [4],\n        [5],\n        [6],\n        [6],\n        [6],\n        [6],\n        [0],\n        [1],\n        [2],\n        [2],\n        [2],\n        [2],\n        [2],\n        [2],\n        [3],\n        [4],\n        [5],\n        [5],\n        [5],\n        [6],\n        [6],\n        [6],\n        [0],\n        [1]]),\n array([3, 3, 3, 4, 4, 4, 4, 5, 6, 6, 6, 6, 0, 1, 2, 2, 2, 2, 2, 2, 3, 4,\n        5, 5, 5, 6, 6, 6, 0, 1]))"
     },
     "execution_count": 254,
     "metadata": {},
     "output_type": "execute_result"
    }
   ],
   "source": [
    "model.sample(30)"
   ],
   "metadata": {
    "collapsed": false,
    "pycharm": {
     "name": "#%%\n"
    }
   }
  },
  {
   "cell_type": "code",
   "execution_count": 255,
   "outputs": [
    {
     "name": "stdout",
     "output_type": "stream",
     "text": [
      "[3] 3\n",
      "[3] 3\n",
      "[4] 4\n",
      "[4] 4\n",
      "[5] 5\n",
      "[5] 5\n",
      "[5] 5\n",
      "[5] 5\n",
      "[6] 6\n",
      "[0] 0\n",
      "[0] 0\n",
      "[0] 0\n",
      "[0] 0\n",
      "[1] 1\n",
      "[1] 1\n",
      "[1] 1\n",
      "[2] 2\n",
      "[2] 2\n",
      "[2] 2\n",
      "[3] 3\n",
      "[3] 3\n",
      "[3] 4\n",
      "[4] 4\n",
      "[5] 5\n",
      "[5] 5\n",
      "[5] 5\n",
      "[5] 5\n",
      "[6] 6\n",
      "[6] 6\n",
      "[6] 6\n"
     ]
    }
   ],
   "source": [
    "E, Z = model.sample(30)\n",
    "\n",
    "for e, v in zip(E, Z):\n",
    "    print(e, v)"
   ],
   "metadata": {
    "collapsed": false,
    "pycharm": {
     "name": "#%%\n"
    }
   }
  },
  {
   "cell_type": "code",
   "execution_count": 206,
   "outputs": [
    {
     "name": "stderr",
     "output_type": "stream",
     "text": [
      "100%|██████████| 100/100 [01:10<00:00,  1.42it/s]\n",
      "Even though the 'startprob_' attribute is set, it will be overwritten during initialization because 'init_params' contains 's'\n",
      "Even though the 'startprob_' attribute is set, it will be overwritten during initialization because 'init_params' contains 's'\n"
     ]
    },
    {
     "name": "stdout",
     "output_type": "stream",
     "text": [
      "[[3.20880524e-084 3.09951943e-083 1.75132330e-005 9.99981565e-001\n",
      "  9.21676619e-007 5.11612231e-033 8.29983577e-083]\n",
      " [5.45594498e-089 7.22318454e-226 3.40513163e-135 5.02410082e-003\n",
      "  9.90388377e-001 4.58752183e-003 8.93265739e-030]\n",
      " [2.60159186e-003 8.70399470e-045 5.43147811e-004 2.52007531e-004\n",
      "  1.18288991e-003 9.89292489e-001 6.12787375e-003]\n",
      " [3.45218653e-002 2.44240195e-004 5.35134296e-007 2.40368654e-174\n",
      "  1.25031151e-150 2.76126757e-003 9.62472092e-001]\n",
      " [9.93231958e-001 1.90909669e-003 1.21867341e-098 1.16169900e-201\n",
      "  0.00000000e+000 5.46336741e-114 4.85894577e-003]\n",
      " [1.30249317e-002 9.78762157e-001 8.21291112e-003 1.66495225e-062\n",
      "  0.00000000e+000 2.46059975e-263 2.64175337e-010]\n",
      " [1.86245294e-003 4.52003009e-003 9.90428276e-001 2.51596298e-003\n",
      "  1.26417078e-090 4.69131980e-171 6.73278243e-004]]\n"
     ]
    },
    {
     "name": "stderr",
     "output_type": "stream",
     "text": [
      "Even though the 'startprob_' attribute is set, it will be overwritten during initialization because 'init_params' contains 's'\n"
     ]
    },
    {
     "name": "stdout",
     "output_type": "stream",
     "text": [
      "[[3.45271984e-002 2.46218045e-004 3.30914934e-006 1.57703999e-169\n",
      "  4.17974606e-147 2.57328462e-003 9.62649990e-001]\n",
      " [2.60902964e-003 1.10885150e-044 5.40547436e-004 2.50914124e-004\n",
      "  1.04069660e-003 9.89262432e-001 6.29638002e-003]\n",
      " [1.09620844e-103 1.02156959e-254 1.84550385e-150 5.02444744e-003\n",
      "  9.90246631e-001 4.72892162e-003 1.25741821e-033]\n",
      " [5.32532089e-083 1.47290888e-080 1.16363288e-004 9.99883441e-001\n",
      "  1.95676602e-007 1.74204500e-030 1.37315217e-082]\n",
      " [1.84173975e-003 4.02518845e-003 9.91024141e-001 2.43482385e-003\n",
      "  1.57808250e-090 1.49642450e-182 6.74106685e-004]\n",
      " [1.30726465e-002 9.78050354e-001 8.87699895e-003 1.44469002e-059\n",
      "  0.00000000e+000 7.74136946e-281 6.20914150e-010]\n",
      " [9.93274359e-001 1.86652932e-003 5.68700648e-113 2.84654514e-210\n",
      "  0.00000000e+000 8.46280484e-110 4.85911126e-003]]\n"
     ]
    },
    {
     "name": "stderr",
     "output_type": "stream",
     "text": [
      "Even though the 'startprob_' attribute is set, it will be overwritten during initialization because 'init_params' contains 's'\n"
     ]
    },
    {
     "name": "stdout",
     "output_type": "stream",
     "text": [
      "[[4.04785460e-079 3.79170533e-080 1.09904184e-005 9.99988994e-001\n",
      "  1.52695224e-008 7.94273047e-028 5.08456210e-080]\n",
      " [1.47365767e-107 2.96366621e-263 6.28940464e-154 5.02593301e-003\n",
      "  9.90567539e-001 4.40652790e-003 6.78913484e-035]\n",
      " [2.61299321e-003 5.56135277e-047 5.42999959e-004 2.52695433e-004\n",
      "  1.36379664e-003 9.88761987e-001 6.46552772e-003]\n",
      " [3.45354030e-002 2.46362586e-004 5.83387810e-008 2.73908467e-130\n",
      "  1.74049780e-121 2.37681542e-003 9.62841361e-001]\n",
      " [9.93275780e-001 1.86599805e-003 3.70380822e-102 3.61466581e-199\n",
      "  0.00000000e+000 5.20113976e-118 4.85822164e-003]\n",
      " [1.30721741e-002 9.78125888e-001 8.80193745e-003 4.41349830e-062\n",
      "  0.00000000e+000 8.77050211e-278 1.44501762e-011]\n",
      " [1.84307840e-003 4.08049752e-003 9.90878225e-001 2.52429472e-003\n",
      "  1.17528421e-089 7.35749292e-196 6.73904213e-004]]\n"
     ]
    },
    {
     "name": "stderr",
     "output_type": "stream",
     "text": [
      "Even though the 'startprob_' attribute is set, it will be overwritten during initialization because 'init_params' contains 's'\n"
     ]
    },
    {
     "name": "stdout",
     "output_type": "stream",
     "text": [
      "[[3.52105203e-103 4.52799940e-276 3.95442568e-153 5.02519543e-003\n",
      "  9.90521247e-001 4.45355740e-003 1.01622507e-026]\n",
      " [6.53570611e-083 1.72543486e-083 1.11344705e-004 9.99888464e-001\n",
      "  1.91630413e-007 2.78067646e-028 3.95167770e-083]\n",
      " [1.89717511e-003 5.71637411e-003 9.89285831e-001 2.42893358e-003\n",
      "  5.82426617e-092 3.02464129e-181 6.71685705e-004]\n",
      " [1.30307112e-002 9.80355330e-001 6.61395885e-003 1.20167583e-066\n",
      "  0.00000000e+000 4.03994926e-264 6.81195348e-011]\n",
      " [9.93251592e-001 1.88330029e-003 1.09722599e-109 4.65928024e-230\n",
      "  0.00000000e+000 9.65365159e-112 4.86510806e-003]\n",
      " [3.44761592e-002 2.44928317e-004 5.86187986e-004 3.84905566e-151\n",
      "  7.32523085e-135 3.27326750e-003 9.61419457e-001]\n",
      " [2.58602440e-003 2.28391105e-055 6.97151187e-010 2.53345792e-004\n",
      "  1.31908050e-003 9.90167983e-001 5.67356526e-003]]\n"
     ]
    },
    {
     "name": "stderr",
     "output_type": "stream",
     "text": [
      "Even though the 'startprob_' attribute is set, it will be overwritten during initialization because 'init_params' contains 's'\n"
     ]
    },
    {
     "name": "stdout",
     "output_type": "stream",
     "text": [
      "[[1.86204598e-003 4.61814799e-003 9.90595804e-001 2.25049594e-003\n",
      "  1.98168131e-081 1.91889539e-193 6.73506503e-004]\n",
      " [1.30611821e-002 9.78852754e-001 8.08606367e-003 2.70329449e-057\n",
      "  0.00000000e+000 8.14526161e-261 8.57242586e-011]\n",
      " [9.93269757e-001 1.86756819e-003 3.50990584e-112 2.88229445e-214\n",
      "  1.97626258e-323 1.05700037e-099 4.86267502e-003]\n",
      " [3.45039825e-002 2.45815741e-004 2.06005027e-006 9.32558530e-146\n",
      "  1.10244600e-128 3.21245690e-003 9.62035685e-001]\n",
      " [2.58835763e-003 1.07423269e-043 5.42449891e-004 2.50817968e-004\n",
      "  9.48366688e-004 9.89938365e-001 5.73164273e-003]\n",
      " [2.56801416e-096 8.72837214e-217 7.80101496e-132 5.02416429e-003\n",
      "  9.90153859e-001 4.82197695e-003 1.74034350e-029]\n",
      " [1.40840772e-073 3.51633391e-072 3.28379313e-004 9.99671582e-001\n",
      "  3.90376584e-008 2.61420630e-035 5.83193943e-071]]\n"
     ]
    },
    {
     "name": "stderr",
     "output_type": "stream",
     "text": [
      "Even though the 'startprob_' attribute is set, it will be overwritten during initialization because 'init_params' contains 's'\n"
     ]
    },
    {
     "name": "stdout",
     "output_type": "stream",
     "text": [
      "[[3.45296987e-002 2.43814241e-004 7.40877603e-008 3.61704985e-163\n",
      "  5.94853828e-143 2.53343048e-003 9.62692982e-001]\n",
      " [2.61025038e-003 2.42590730e-041 5.43494846e-004 2.50757318e-004\n",
      "  1.04499912e-003 9.89218871e-001 6.33162738e-003]\n",
      " [1.31456084e-099 2.58011718e-255 1.21034698e-142 5.02502542e-003\n",
      "  9.90250378e-001 4.72459687e-003 7.35528739e-036]\n",
      " [2.12850518e-078 7.05752024e-077 3.19053065e-004 9.99680943e-001\n",
      "  3.48075508e-009 4.13822998e-032 3.65823275e-077]\n",
      " [1.86835186e-003 4.61179657e-003 9.90587882e-001 2.25847078e-003\n",
      "  1.95663417e-092 3.91111322e-208 6.73498335e-004]\n",
      " [1.30102057e-002 9.78896523e-001 8.09327000e-003 1.27378339e-057\n",
      "  0.00000000e+000 1.86238994e-263 1.59120840e-009]\n",
      " [9.93219959e-001 1.92251133e-003 1.90541588e-097 9.95017130e-197\n",
      "  0.00000000e+000 3.12273337e-111 4.85752967e-003]]\n"
     ]
    },
    {
     "name": "stderr",
     "output_type": "stream",
     "text": [
      "Even though the 'startprob_' attribute is set, it will be overwritten during initialization because 'init_params' contains 's'\n"
     ]
    },
    {
     "name": "stdout",
     "output_type": "stream",
     "text": [
      "[[3.45269322e-002 2.44120601e-004 9.78919856e-008 6.45607902e-154\n",
      "  1.36651283e-137 2.60376670e-003 9.62625083e-001]\n",
      " [9.93227177e-001 1.91474937e-003 9.03962698e-101 4.00282194e-210\n",
      "  0.00000000e+000 4.71978319e-117 4.85807343e-003]\n",
      " [1.30037130e-002 9.80153089e-001 6.84319750e-003 1.74276539e-063\n",
      "  0.00000000e+000 1.73699599e-274 1.72656278e-010]\n",
      " [1.89641697e-003 5.54711946e-003 9.89645385e-001 2.23889254e-003\n",
      "  8.54216210e-095 5.56815943e-216 6.72186329e-004]\n",
      " [7.21218838e-079 4.26376504e-077 3.36011625e-004 9.99663987e-001\n",
      "  1.39304085e-009 2.16379625e-033 7.05096039e-078]\n",
      " [7.26588675e-107 2.07714226e-244 1.90512014e-139 5.02495939e-003\n",
      "  9.90231518e-001 4.74352294e-003 3.30310976e-035]\n",
      " [2.60807956e-003 1.60979506e-044 5.43565026e-004 2.50682587e-004\n",
      "  1.02614513e-003 9.89301923e-001 6.26960430e-003]]\n"
     ]
    },
    {
     "name": "stderr",
     "output_type": "stream",
     "text": [
      "Even though the 'startprob_' attribute is set, it will be overwritten during initialization because 'init_params' contains 's'\n"
     ]
    },
    {
     "name": "stdout",
     "output_type": "stream",
     "text": [
      "[[9.93258671e-001 1.87515623e-003 5.15151077e-108 9.34006635e-207\n",
      "  0.00000000e+000 1.36286343e-106 4.86617291e-003]\n",
      " [1.30611570e-002 9.78365036e-001 8.57380651e-003 2.10181755e-061\n",
      "  0.00000000e+000 1.46889810e-260 3.99368231e-011]\n",
      " [1.84963462e-003 4.25076832e-003 9.90699526e-001 2.52641572e-003\n",
      "  3.53682756e-089 2.16076258e-166 6.73654988e-004]\n",
      " [2.23406116e-081 1.24871796e-081 7.23568258e-006 9.99992189e-001\n",
      "  5.75743435e-007 3.43617811e-024 1.66699504e-083]\n",
      " [7.94257967e-101 1.78392815e-242 6.31774484e-151 5.02576373e-003\n",
      "  9.90797464e-001 4.17677229e-003 4.85587651e-028]\n",
      " [2.57701634e-003 9.00313464e-055 8.21922925e-009 2.55220486e-004\n",
      "  1.59836495e-003 9.90075620e-001 5.49377034e-003]\n",
      " [3.44703787e-002 2.45132553e-004 5.85945139e-004 2.93165970e-130\n",
      "  7.12819579e-118 3.47238187e-003 9.61226162e-001]]\n"
     ]
    },
    {
     "name": "stderr",
     "output_type": "stream",
     "text": [
      "Even though the 'startprob_' attribute is set, it will be overwritten during initialization because 'init_params' contains 's'\n"
     ]
    },
    {
     "name": "stdout",
     "output_type": "stream",
     "text": [
      "[[1.29899726e-002 9.82213908e-001 4.79611658e-003 2.25026805e-080\n",
      "  0.00000000e+000 6.39406104e-187 2.67207448e-009]\n",
      " [9.93236556e-001 1.90477911e-003 2.12497733e-070 1.05848835e-201\n",
      "  4.71111066e-291 1.18179566e-076 4.85866472e-003]\n",
      " [3.45215395e-002 2.44485078e-004 5.57151955e-012 2.48014517e-115\n",
      "  9.39372267e-107 2.76920832e-003 9.62464767e-001]\n",
      " [2.60201483e-003 8.66855038e-036 5.43757811e-004 2.51346691e-004\n",
      "  1.08597942e-003 9.89394662e-001 6.12223887e-003]\n",
      " [5.08966421e-077 1.23060112e-162 6.30365567e-097 5.02459090e-003\n",
      "  9.90291321e-001 4.68408846e-003 3.13618393e-028]\n",
      " [2.63827761e-075 4.01495058e-075 2.52927168e-004 9.99746833e-001\n",
      "  2.39802076e-007 1.69762260e-027 5.95374604e-075]\n",
      " [1.94083002e-003 7.07357171e-003 9.88014596e-001 2.30107874e-003\n",
      "  6.76567006e-085 3.37924731e-172 6.69923885e-004]]\n",
      "[[1.85913171e-003 3.82169479e-003 9.91365670e-001 2.27890973e-003\n",
      "  2.19261474e-088 6.34181484e-211 6.74593698e-004]\n",
      " [1.29109660e-002 9.77942587e-001 9.14644389e-003 1.20410126e-048\n",
      "  0.00000000e+000 4.42102880e-273 2.69369079e-009]\n",
      " [9.93102159e-001 2.03810713e-003 2.00751340e-084 8.04041477e-179\n",
      "  0.00000000e+000 1.27431237e-128 4.85973362e-003]\n",
      " [3.44883923e-002 2.39024153e-004 5.86471229e-004 5.48767013e-169\n",
      "  7.31145226e-145 2.99347026e-003 9.61692642e-001]\n",
      " [2.59614836e-003 1.06000527e-046 4.37680231e-008 2.52441563e-004\n",
      "  1.20974134e-003 9.90018876e-001 5.92274879e-003]\n",
      " [1.03322054e-106 2.15051374e-267 8.22409400e-153 5.02520681e-003\n",
      "  9.90413168e-001 4.56162527e-003 3.77210319e-031]\n",
      " [1.44122086e-079 1.09066187e-078 3.00219805e-004 9.99699777e-001\n",
      "  3.02247733e-009 8.67809498e-031 1.38583072e-075]]\n"
     ]
    }
   ],
   "source": [
    "models = []\n",
    "for i in tqdm(range(100)):\n",
    "    m = hmm.CategoricalHMM(n_components=7, n_iter=10, init_params=\"mcs\")\n",
    "    m.transmat_ = transmat.copy()\n",
    "    m.fit(data)\n",
    "    models.append((m.score(data), m))\n",
    "\n",
    "best = sorted(models, key=lambda x: -x[0])[:10]\n",
    "for s, m in best:\n",
    "    m.n_iter = 100\n",
    "    m.fit(data)\n",
    "    print(m.emissionprob_)"
   ],
   "metadata": {
    "collapsed": false,
    "pycharm": {
     "name": "#%%\n"
    }
   }
  },
  {
   "cell_type": "code",
   "execution_count": 162,
   "outputs": [
    {
     "data": {
      "text/plain": "[(-16668.710820769742,\n  CategoricalHMM(init_params='mcs', n_components=7, n_iter=5,\n                 random_state=RandomState(MT19937) at 0x7FC19CF09E40)),\n (-16815.088897116242,\n  CategoricalHMM(init_params='mcs', n_components=7, n_iter=5,\n                 random_state=RandomState(MT19937) at 0x7FC19CF09E40)),\n (-16840.08739415189,\n  CategoricalHMM(init_params='mcs', n_components=7, n_iter=5,\n                 random_state=RandomState(MT19937) at 0x7FC19CF09E40)),\n (-16926.73251985644,\n  CategoricalHMM(init_params='mcs', n_components=7, n_iter=5,\n                 random_state=RandomState(MT19937) at 0x7FC19CF09E40)),\n (-17154.062223945613,\n  CategoricalHMM(init_params='mcs', n_components=7, n_iter=5,\n                 random_state=RandomState(MT19937) at 0x7FC19CF09E40)),\n (-17491.355366015665,\n  CategoricalHMM(init_params='mcs', n_components=7, n_iter=5,\n                 random_state=RandomState(MT19937) at 0x7FC19CF09E40)),\n (-17605.71244784563,\n  CategoricalHMM(init_params='mcs', n_components=7, n_iter=5,\n                 random_state=RandomState(MT19937) at 0x7FC19CF09E40)),\n (-18486.11492241607,\n  CategoricalHMM(init_params='mcs', n_components=7, n_iter=5,\n                 random_state=RandomState(MT19937) at 0x7FC19CF09E40)),\n (-19149.107641678147,\n  CategoricalHMM(init_params='mcs', n_components=7, n_iter=5,\n                 random_state=RandomState(MT19937) at 0x7FC19CF09E40)),\n (-19775.176313984204,\n  CategoricalHMM(init_params='mcs', n_components=7, n_iter=5,\n                 random_state=RandomState(MT19937) at 0x7FC19CF09E40))]"
     },
     "execution_count": 162,
     "metadata": {},
     "output_type": "execute_result"
    }
   ],
   "source": [
    "sorted(models, key=lambda x: -x[0])[:10]"
   ],
   "metadata": {
    "collapsed": false,
    "pycharm": {
     "name": "#%%\n"
    }
   }
  },
  {
   "cell_type": "code",
   "execution_count": 115,
   "outputs": [],
   "source": [
    "# make our generative model with two components, a fair die and a\n",
    "# loaded die\n",
    "gen_model = hmm.CategoricalHMM(n_components=2, random_state=99)\n",
    "\n",
    "# the first state is the fair die so let's start there so no one\n",
    "# catches on right away\n",
    "gen_model.startprob_ = np.array([1.0, 0.0])\n",
    "\n",
    "# now let's say that we sneak the loaded die in:\n",
    "# here, we have a 95% chance to continue using the fair die and a 5%\n",
    "# chance to switch to the loaded die\n",
    "# when we enter the loaded die state, we have a 90% chance of staying\n",
    "# in that state and a 10% chance of leaving\n",
    "gen_model.transmat_ = np.array([[0.95, 0.05],\n",
    "                                [0.1, 0.9]])\n",
    "\n",
    "# now let's set the emission means:\n",
    "# the first state is a fair die with equal probabilities and the\n",
    "# second is loaded by being biased toward rolling a six\n",
    "gen_model.emissionprob_ =\n",
    "np.array([[1 / 6, 1 / 6, 1 / 6, 1 / 6, 1 / 6, 1 / 6],\n",
    "          [1 / 10, 1 / 10, 1 / 10, 1 / 10, 1 / 10, 1 / 2]])"
   ],
   "metadata": {
    "collapsed": false,
    "pycharm": {
     "name": "#%%\n"
    }
   }
  },
  {
   "cell_type": "code",
   "execution_count": 116,
   "outputs": [
    {
     "data": {
      "text/plain": "(array([[2],\n        [0],\n        [3],\n        [0],\n        [0],\n        [5],\n        [4],\n        [3],\n        [5],\n        [4],\n        [3],\n        [4],\n        [1],\n        [0],\n        [0],\n        [1],\n        [0],\n        [0],\n        [3],\n        [5],\n        [0],\n        [3],\n        [5],\n        [5],\n        [1],\n        [2],\n        [5],\n        [5],\n        [4],\n        [0]]),\n array([0, 0, 0, 0, 1, 1, 1, 1, 1, 0, 0, 0, 0, 0, 0, 0, 0, 0, 0, 0, 0, 0,\n        0, 0, 0, 0, 0, 0, 0, 0]))"
     },
     "execution_count": 116,
     "metadata": {},
     "output_type": "execute_result"
    }
   ],
   "source": [
    "gen_model.sample(30)"
   ],
   "metadata": {
    "collapsed": false,
    "pycharm": {
     "name": "#%%\n"
    }
   }
  },
  {
   "cell_type": "code",
   "execution_count": 269,
   "outputs": [
    {
     "data": {
      "text/plain": "array([3, 4, 4, 4, 5, 5, 5, 6, 6, 6, 6, 0, 0, 0, 1, 1, 1, 2, 2, 2, 3, 3,\n       3, 4, 5, 5, 5, 6, 6, 6, 0, 1, 1, 2, 2, 2, 3, 3, 3, 4, 4, 5, 5, 5,\n       6, 6, 6, 0, 0, 0, 1, 1, 2, 2, 2, 3, 3, 4, 4, 4, 5, 5, 6, 6, 0, 1,\n       1, 2, 2, 2, 3, 3, 4, 4, 5, 5, 5, 5, 6, 6, 6, 0, 0, 1, 2, 2, 2, 3,\n       3, 4, 4, 4, 4, 5, 5, 6, 6, 0, 0, 0])"
     },
     "execution_count": 269,
     "metadata": {},
     "output_type": "execute_result"
    }
   ],
   "source": [
    "model.decode(data)[1][:100]"
   ],
   "metadata": {
    "collapsed": false,
    "pycharm": {
     "name": "#%%\n"
    }
   }
  }
 ],
 "metadata": {
  "kernelspec": {
   "display_name": "Python 3",
   "language": "python",
   "name": "python3"
  },
  "language_info": {
   "codemirror_mode": {
    "name": "ipython",
    "version": 2
   },
   "file_extension": ".py",
   "mimetype": "text/x-python",
   "name": "python",
   "nbconvert_exporter": "python",
   "pygments_lexer": "ipython2",
   "version": "2.7.6"
  }
 },
 "nbformat": 4,
 "nbformat_minor": 0
}