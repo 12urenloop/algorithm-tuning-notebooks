{
 "cells": [
  {
   "cell_type": "code",
   "execution_count": 1,
   "metadata": {
    "pycharm": {
     "name": "#%%\n"
    },
    "tags": []
   },
   "outputs": [],
   "source": [
    "import numpy as np\n",
    "from hmmlearn import hmm\n",
    "from hmmlearn.base import ConvergenceMonitor\n",
    "import matplotlib.pyplot as plt\n",
    "from matplotlib import colormaps\n",
    "from static_probabilities import TRANSITION_PROBABILITIES_12UL, EMISSION_PROBABILITIES_12UL, START_PROBABILITIES_12UL\n",
    "from time import time\n",
    "from collections import Counter"
   ]
  },
  {
   "cell_type": "markdown",
   "metadata": {
    "pycharm": {
     "name": "#%% md\n"
    }
   },
   "source": [
    "# Fetching Data"
   ]
  },
  {
   "cell_type": "code",
   "execution_count": 2,
   "metadata": {
    "pycharm": {
     "name": "#%%\n"
    }
   },
   "outputs": [],
   "source": [
    "from requests import get as _get\n",
    "\n",
    "BASE_URL = 'http://localhost:8080'\n",
    "\n",
    "\n",
    "def get(url: str) -> list:\n",
    "    l = _get(f'{BASE_URL}/{url}').json()\n",
    "    print(l[0])\n",
    "    print(f'Fetched {len(l)} items')\n",
    "    return l"
   ]
  },
  {
   "cell_type": "code",
   "execution_count": 4,
   "metadata": {
    "pycharm": {
     "name": "#%%\n"
    }
   },
   "outputs": [
    {
     "name": "stdout",
     "output_type": "stream",
     "text": [
      "{'id': 3493712, 'batonId': 4, 'stationId': 2, 'rssi': -95, 'battery': 95.0, 'uptimeMs': 31684964, 'remoteId': 267237, 'timestamp': 1651071359251}\n",
      "Fetched 2034655 items\n"
     ]
    }
   ],
   "source": [
    "detections = sorted(get('detection'), key=lambda x: x[\"timestamp\"])"
   ]
  },
  {
   "cell_type": "code",
   "execution_count": 5,
   "metadata": {
    "pycharm": {
     "name": "#%%\n"
    }
   },
   "outputs": [
    {
     "name": "stdout",
     "output_type": "stream",
     "text": [
      "{'id': 2, 'name': 'O', 'mac': '5a:45:55:53:00:00'}\n",
      "Fetched 22 items\n"
     ]
    }
   ],
   "source": [
    "batons = get('baton')"
   ]
  },
  {
   "cell_type": "code",
   "execution_count": 6,
   "metadata": {
    "pycharm": {
     "name": "#%%\n"
    }
   },
   "outputs": [
    {
     "name": "stdout",
     "output_type": "stream",
     "text": [
      "{'id': 1, 'teamId': 1, 'previousBatonId': None, 'newBatonId': 23, 'timestamp': 1651012254359}\n",
      "Fetched 73 items\n"
     ]
    }
   ],
   "source": [
    "baton_switchovers = sorted(get('batonswitchover'), key=lambda x: x[\"timestamp\"])"
   ]
  },
  {
   "cell_type": "code",
   "execution_count": 7,
   "metadata": {
    "pycharm": {
     "name": "#%%\n"
    }
   },
   "outputs": [
    {
     "name": "stdout",
     "output_type": "stream",
     "text": [
      "{'id': 10, 'name': 'station 5', 'distanceFromStart': 219.0, 'isBroken': False, 'url': 'http://172.12.50.105:8000'}\n",
      "Fetched 7 items\n"
     ]
    }
   ],
   "source": [
    "stations = get('station')"
   ]
  },
  {
   "cell_type": "code",
   "execution_count": 8,
   "metadata": {
    "pycharm": {
     "name": "#%%\n"
    }
   },
   "outputs": [
    {
     "name": "stdout",
     "output_type": "stream",
     "text": [
      "{'id': 1, 'name': 'HILOK', 'batonId': 18}\n",
      "Fetched 17 items\n"
     ]
    }
   ],
   "source": [
    "teams = get('team')"
   ]
  },
  {
   "cell_type": "code",
   "execution_count": 9,
   "metadata": {
    "pycharm": {
     "name": "#%%\n"
    }
   },
   "outputs": [
    {
     "name": "stdout",
     "output_type": "stream",
     "text": [
      "{'id': 5096, 'teamId': 7, 'lapSourceId': 1, 'timestamp': 1651039200000}\n",
      "Fetched 740 items\n"
     ]
    }
   ],
   "source": [
    "laps = get('accepted-laps')"
   ]
  },
  {
   "cell_type": "markdown",
   "metadata": {
    "pycharm": {
     "name": "#%% md\n"
    }
   },
   "source": [
    "# Processing data"
   ]
  },
  {
   "cell_type": "code",
   "execution_count": 71,
   "metadata": {
    "pycharm": {
     "name": "#%%\n"
    }
   },
   "outputs": [],
   "source": [
    "team_detections: dict[int, list] = {team[\"id\"]: [] for team in teams}\n",
    "team_by_id: dict[int, dict] = {team[\"id\"]: team for team in teams}\n",
    "baton_team: dict[int, dict] = {}\n",
    "\n",
    "switchover_index = 0\n",
    "for detection in detections:\n",
    "    while switchover_index < len(baton_switchovers) and baton_switchovers[switchover_index][\"timestamp\"] < detection[\n",
    "        \"timestamp\"]:\n",
    "        switchover = baton_switchovers[switchover_index]\n",
    "        baton_team[switchover[\"newBatonId\"]] = team_by_id[switchover[\"teamId\"]]\n",
    "        switchover_index += 1\n",
    "\n",
    "    if detection[\"batonId\"] in baton_team:\n",
    "        if detection[\"rssi\"] > -80:\n",
    "            current_detections = team_detections[baton_team[detection[\"batonId\"]][\"id\"]]\n",
    "            if len(current_detections) > 0 and current_detections[-1][\"timestamp\"] == detection[\"timestamp\"]:\n",
    "                if current_detections[-1][\"rssi\"] < detection[\"rssi\"]:\n",
    "                    current_detections[-1] = detection\n",
    "            else:\n",
    "                current_detections.append(detection)"
   ]
  },
  {
   "cell_type": "code",
   "execution_count": 72,
   "metadata": {
    "pycharm": {
     "name": "#%%\n"
    }
   },
   "outputs": [
    {
     "name": "stdout",
     "output_type": "stream",
     "text": [
      "{1: 56741, 3: 39033, 4: 28140, 5: 49575, 8: 49237, 9: 34699, 10: 45604, 11: 37978, 12: 37402, 13: 36799, 14: 36516, 17: 23795, 7: 35834, 22: 34665, 6: 34690, 2: 31599, 16: 30999}\n"
     ]
    }
   ],
   "source": [
    "print({k: len(v) for k, v in team_detections.items()})"
   ]
  },
  {
   "cell_type": "markdown",
   "metadata": {
    "pycharm": {
     "name": "#%% md\n"
    }
   },
   "source": [
    "# Fitted Viterbi Lapper"
   ]
  },
  {
   "cell_type": "markdown",
   "metadata": {
    "pycharm": {
     "name": "#%% md\n"
    }
   },
   "source": [
    "## Fitting HMM parameters"
   ]
  },
  {
   "cell_type": "code",
   "execution_count": 86,
   "metadata": {
    "pycharm": {
     "name": "#%%\n"
    }
   },
   "outputs": [
    {
     "data": {
      "text/plain": [
       "ConvergenceMonitor(\n",
       "    history=[-592026.4830907698, -469524.9973627721, -424028.2631410458, -348215.5391944783, -319952.8594438734, -319078.50089232775, -318913.9894791682, -318861.50221729884, -318833.80984839285, -318816.7666550386, -318805.8967175243, -318798.8796974054, -318794.31126768637, -318791.304776974, -318789.2938874269, -318787.91552413395, -318786.9351957237, -318786.2013099168, -318785.6207197315, -318785.1441788779, -318784.7483184894, -318784.4171704708, -318784.1369029254, -318783.8979845124, -318783.6943451484, -318783.52097606956, -318783.3728726317, -318783.2451656752, -318783.13352748135, -318783.0344003069, -318782.9450030063, -318782.8632180657, -318782.7874408635, -318782.7164477049, -318782.6492908243, -318782.5852246484, -318782.52365120914, -318782.46408456017, -318782.4061227108, -318782.3494288867, -318782.29371576285, -318782.2387352566, -318782.18427012995, -318782.1301265021, -318782.0761301334, -318782.02212269994, -318781.96795753716, -318781.9134987411, -318781.85861923243, -318781.803199372, -318781.74712525686, -318781.69028892374, -318781.63258720917, -318781.5739208115, -318781.5141950274, -318781.45331783907, -318781.391201457, -318781.32776065555, -318781.2629131217, -318781.19657970365, -318781.12868356885, -318781.05915108, -318780.98791124223, -318780.914895591, -318780.8400382807, -318780.76327684737, -318780.6845509544, -318780.6038042156, -318780.5209822789, -318780.4360347702, -318780.3489139988, -318780.2595759531, -318780.16797996976, -318780.07408942137, -318779.9778708089, -318779.87929523713, -318779.7783375059, -318779.6749765832, -318779.5691958426, -318779.4609829234, -318779.3503302326, -318779.23723481793, -318779.12169814226, -318779.0037269799, -318778.88333291, -318778.7605322662, -318778.6353467123, -318778.5078032994, -318778.37793310516, -318778.2457737584, -318778.1113671895, -318777.97476101294, -318777.83600756584, -318777.6951643098, -318777.55229377985, -318777.4074639262, -318777.2607467453, -318777.1122196202, -318776.96196438815, -318776.81006746093, -318776.6566192974, -318776.5017152073, -318776.3454539897, -318776.1879381482, -318776.02927454485, -318775.86957271583, -318775.7089460879, -318775.5475101693, -318775.385383723, -318775.2226881288, -318775.05954665475, -318774.896084116, -318774.73242755287, -318774.56870509987, -318774.40504534234, -318774.2415779449, -318774.078432861, -318773.91573972045, -318773.7536281361, -318773.59222633624, -318773.4316622031, -318773.2720613718, -318773.1135480087, -318772.9562440294, -318772.80026858, -318772.6457381551, -318772.49276544567, -318772.34146038035, -318772.19192815543, -318772.04427009623, -318771.89858291455, -318771.75495841756, -318771.6134838041, -318771.47424082714, -318771.3373052726, -318771.2027482017, -318771.07063466014, -318770.9410237358, -318770.81396873266, -318770.6895169229, -318770.5677101339, -318770.4485836646, -318770.3321672473, -318770.2184850012, -318770.1075548254, -318769.99938975484, -318769.8939968209, -318769.79137825675, -318769.69153114385, -318769.594447627, -318769.5001150234, -318769.40851685364, -318769.3196318919, -318769.23343501403, -318769.14989814354, -318769.06898894586, -318768.99067241215, -318768.914910443, -318768.8416623023, -318768.77088525926, -318768.7025339951, -318768.6365611644, -318768.5729185329, -318768.5115552491, -318768.4524203073, -318768.3954611873, -318768.34062472446, -318768.28785698797, -318768.237103297, -318768.18830902467, -318768.1414200064, -318768.09638095717, -318768.0531372113, -318768.0116344467, -318767.9718188245, -318767.93363679864, -318767.8970353007, -318767.8619623315, -318767.82836620696, -318767.7961962532, -318767.7654026247, -318767.7359368691, -318767.7077506675, -318767.68079738424, -318767.6550314506, -318767.6304077653, -318767.60688296845, -318767.58441429987, -318767.56296088925, -318767.5424822974, -318767.522939591, -318767.50429479557, -318767.4865113095, -318767.4695536769, -318767.45338748506, -318767.43797917437, -318767.4232966666, -318767.4093091805, -318767.3959865659, -318767.3832995473, -318767.37122088607, -318767.3597231775, -318767.3487809831, -318767.3383694728, -318767.32846445363],\n",
       "    iter=205,\n",
       "    n_iter=1000,\n",
       "    tol=0.01,\n",
       "    verbose=False,\n",
       ")"
      ]
     },
     "execution_count": 86,
     "metadata": {},
     "output_type": "execute_result"
    }
   ],
   "source": [
    "station_to_emission = {v: k for k, v in enumerate([station[\"id\"] for station in stations])}\n",
    "data = [[[station_to_emission[detection[\"stationId\"]]] for detection in team_detections[i]] for i in team_detections.keys()]\n",
    "np_data = np.concatenate(data)\n",
    "lengths = [len(x) for x in data]\n",
    "\n",
    "transmat = np.array([\n",
    "    [0.8, 0.1, 0., 0., 0., 0., 0.1],\n",
    "    [0.1, 0.8, 0.1, 0., 0., 0., 0.],\n",
    "    [0., 0.1, 0.8, 0.1, 0., 0., 0.],\n",
    "    [0., 0., 0.1, 0.8, 0.1, 0., 0.],\n",
    "    [0., 0., 0., 0.1, 0.8, 0.1, 0.],\n",
    "    [0., 0., 0., 0., 0.1, 0.8, 0.1],\n",
    "    [0.1, 0., 0., 0., 0., 0.1, 0.8]\n",
    "])\n",
    "emissionprob = np.array([\n",
    "    [0.76, 0.04, 0.04, 0.04, 0.04, 0.04, 0.04],\n",
    "    [0.04, 0.76, 0.04, 0.04, 0.04, 0.04, 0.04],\n",
    "    [0.04, 0.04, 0.76, 0.04, 0.04, 0.04, 0.04],\n",
    "    [0.04, 0.04, 0.04, 0.76, 0.04, 0.04, 0.04],\n",
    "    [0.04, 0.04, 0.04, 0.04, 0.76, 0.04, 0.04],\n",
    "    [0.04, 0.04, 0.04, 0.04, 0.04, 0.76, 0.04],\n",
    "    [0.04, 0.04, 0.04, 0.04, 0.04, 0.04, 0.76],\n",
    "])\n",
    "\n",
    "model = hmm.CategoricalHMM(n_components=7, n_iter=1000, init_params=\"\")\n",
    "model.transmat_ = transmat.copy()  # TRANSITION_PROBABILITIES_12UL.copy()\n",
    "model.emissionprob_ = EMISSION_PROBABILITIES_12UL.copy()\n",
    "model.startprob_ = START_PROBABILITIES_12UL.copy()\n",
    "model.monitor_ = ConvergenceMonitor(model.monitor_.tol, model.monitor_.n_iter, model.monitor_.verbose)\n",
    "\n",
    "model.fit(np_data, lengths)\n",
    "model.monitor_"
   ]
  },
  {
   "cell_type": "code",
   "execution_count": 123,
   "metadata": {
    "pycharm": {
     "name": "#%%\n"
    }
   },
   "outputs": [
    {
     "data": {
      "text/plain": "<Figure size 640x480 with 1 Axes>",
      "image/png": "[encoded data removed]"
     },
     "metadata": {},
     "output_type": "display_data"
    }
   ],
   "source": [
    "plt.imshow(model.transmat_, interpolation='none', cmap=colormaps[\"autumn\"])\n",
    "plt.show()"
   ]
  },
  {
   "cell_type": "code",
   "execution_count": 124,
   "metadata": {
    "pycharm": {
     "name": "#%%\n"
    }
   },
   "outputs": [
    {
     "data": {
      "text/plain": "<Figure size 640x480 with 1 Axes>",
      "image/png": "[encoded data removed]"
     },
     "metadata": {},
     "output_type": "display_data"
    }
   ],
   "source": [
    "plt.imshow(model.emissionprob_, interpolation='none', cmap=colormaps[\"autumn\"])\n",
    "plt.show()"
   ]
  },
  {
   "cell_type": "code",
   "execution_count": 125,
   "metadata": {
    "pycharm": {
     "name": "#%%\n"
    }
   },
   "outputs": [
    {
     "data": {
      "text/plain": "<Figure size 640x480 with 1 Axes>",
      "image/png": "[encoded data removed]"
     },
     "metadata": {},
     "output_type": "display_data"
    }
   ],
   "source": [
    "plt.imshow(np.array([model.startprob_]).reshape((7,1)), interpolation='none', cmap=colormaps[\"autumn\"])\n",
    "plt.show()"
   ]
  },
  {
   "cell_type": "markdown",
   "metadata": {
    "pycharm": {
     "name": "#%% md\n"
    }
   },
   "source": [
    "## Counting Laps"
   ]
  },
  {
   "cell_type": "code",
   "execution_count": 126,
   "metadata": {
    "pycharm": {
     "name": "#%%\n"
    }
   },
   "outputs": [
    {
     "data": {
      "text/plain": "(-28348.356369956804, array([0, 0, 0, ..., 4, 4, 4]))"
     },
     "execution_count": 126,
     "metadata": {},
     "output_type": "execute_result"
    }
   ],
   "source": [
    "model.decode(np.array([[station_to_emission[detection[\"stationId\"]] for detection in team_detections[1]]]))"
   ]
  },
  {
   "cell_type": "code",
   "execution_count": 127,
   "metadata": {
    "pycharm": {
     "name": "#%%\n"
    }
   },
   "outputs": [
    {
     "name": "stdout",
     "output_type": "stream",
     "text": [
      "[('HILOK', -876), ('VTK', -870), ('VLK', -775), ('VGK', -737), ('VEK - ML', -724), ('Wetenschappen', -667), ('HERMES - GFK', -649), ('Politeia', -640), ('VRG', -629), ('VPPK', -628), ('HK', -628), ('Blandinia', -622), ('HILOK Ladies', -616), ('SK', -589), ('Lombrosiana - VBK', -581), ('Lila - VDK', -557), ('Antilopen', -550)]\n",
      "Took: 0.5454237461090088\n"
     ]
    }
   ],
   "source": [
    "start = time()\n",
    "\n",
    "start_segment = list(model.startprob_).index(np.max(model.startprob_))\n",
    "counts = []\n",
    "half = 7//2\n",
    "\n",
    "team_laps: dict[int, list[int]] = {}\n",
    "\n",
    "for team in teams:\n",
    "    _, path = model.decode(np.array([[station_to_emission[detection[\"stationId\"]] for detection in team_detections[team[\"id\"]]]]))\n",
    "    count = 0\n",
    "    prev = path[0]\n",
    "    lap_times = []\n",
    "    for i, segment in enumerate(path[1:]):\n",
    "        delta = half - (half - (segment - prev)) % 7\n",
    "        if delta > 0 and prev > segment:\n",
    "            count += 1\n",
    "            lap_times.append(team_detections[team[\"id\"]][i+1][\"timestamp\"])\n",
    "        elif delta < 0 and prev < segment:\n",
    "            count -= 1\n",
    "            if len(lap_times) > 0:\n",
    "                lap_times.pop()\n",
    "        prev = segment\n",
    "\n",
    "    counts.append((team[\"name\"], count))\n",
    "    team_laps[team['id']] = lap_times\n",
    "\n",
    "counts = sorted(counts, key=lambda x:x[1])\n",
    "\n",
    "print(counts)\n",
    "#print(team_laps)\n",
    "\n",
    "labels = [l for l, _ in counts]\n",
    "counts = [c for _, c in counts]\n",
    "\n",
    "print(f'Took: {time() - start}')"
   ]
  },
  {
   "cell_type": "code",
   "execution_count": 128,
   "metadata": {
    "pycharm": {
     "name": "#%%\n"
    }
   },
   "outputs": [
    {
     "data": {
      "text/plain": "<Figure size 640x480 with 1 Axes>",
      "image/png": "[encoded data removed]"
     },
     "metadata": {},
     "output_type": "display_data"
    }
   ],
   "source": [
    "# Make a random dataset:\n",
    "y_pos = np.arange(len(labels))\n",
    "\n",
    "# Create bars\n",
    "plt.bar(y_pos, counts)\n",
    "\n",
    "# Create names on the x-axis\n",
    "plt.xticks(y_pos, labels, rotation=90)\n",
    "\n",
    "# Show graphic\n",
    "plt.show()"
   ]
  },
  {
   "cell_type": "markdown",
   "metadata": {
    "pycharm": {
     "name": "#%% md\n"
    }
   },
   "source": [
    "# Interval Lapper"
   ]
  },
  {
   "cell_type": "code",
   "execution_count": 46,
   "metadata": {
    "pycharm": {
     "name": "#%%\n"
    }
   },
   "outputs": [
    {
     "name": "stdout",
     "output_type": "stream",
     "text": [
      "[('HILOK', -876), ('VTK', -860), ('VLK', -775), ('VEK - ML', -731), ('Wetenschappen', -668), ('HERMES - GFK', -649), ('Politeia', -634), ('VRG', -628), ('HK', -628), ('VPPK', -627), ('VGK', -625), ('Blandinia', -622), ('SK', -588), ('Lombrosiana - VBK', -580), ('Lila - VDK', -556), ('Antilopen', -553), ('HILOK Ladies', -309)]\n"
     ]
    }
   ],
   "source": [
    "team_all_detections: dict[int, list] = {team[\"id\"]: [] for team in teams}\n",
    "team_by_id: dict[int, dict] = {team[\"id\"]: team for team in teams}\n",
    "baton_team: dict[int, dict] = {}\n",
    "\n",
    "switchover_index = 0\n",
    "for detection in detections:\n",
    "    while switchover_index < len(baton_switchovers) and baton_switchovers[switchover_index][\"timestamp\"] < detection[\n",
    "        \"timestamp\"]:\n",
    "        switchover = baton_switchovers[switchover_index]\n",
    "        baton_team[switchover[\"newBatonId\"]] = team_by_id[switchover[\"teamId\"]]\n",
    "        switchover_index += 1\n",
    "\n",
    "    if detection[\"batonId\"] in baton_team:\n",
    "        current_detections = team_all_detections[baton_team[detection[\"batonId\"]][\"id\"]]\n",
    "        current_detections.append(detection)\n",
    "\n",
    "\n",
    "\n",
    "interval = 5000  # 10s\n",
    "counts = []\n",
    "half = 7//2\n",
    "\n",
    "for team in teams:\n",
    "    intervals = [[]]\n",
    "    for detection in team_all_detections[team[\"id\"]]:\n",
    "        if len(intervals[-1]) == 0 or detection[\"timestamp\"] < intervals[-1][0][\"timestamp\"] + interval:\n",
    "            intervals[-1].append(detection)\n",
    "        else:\n",
    "            intervals.append([detection])\n",
    "\n",
    "    path = []\n",
    "    for group in intervals:\n",
    "        station = Counter(map(lambda x: x[\"stationId\"], group)).most_common(1)[0][0]\n",
    "        path.append(station_to_emission[station])\n",
    "\n",
    "\n",
    "    count = 0\n",
    "    prev = path[0]\n",
    "    lap_times = []\n",
    "    for i, segment in enumerate(path[1:]):\n",
    "        delta = half - (half - (segment - prev)) % 7\n",
    "        if delta > 0 and prev > segment:\n",
    "            count += 1\n",
    "            #lap_times.append(team_detections[team[\"id\"]][i+1][\"timestamp\"])\n",
    "        elif delta < 0 and prev < segment:\n",
    "            count -= 1\n",
    "            #lap_times.pop()\n",
    "        prev = segment\n",
    "\n",
    "    counts.append((team[\"name\"], count))\n",
    "\n",
    "counts = sorted(counts, key=lambda x:x[1])\n",
    "\n",
    "print(counts)"
   ]
  },
  {
   "cell_type": "code",
   "execution_count": 65,
   "metadata": {
    "pycharm": {
     "name": "#%%\n"
    }
   },
   "outputs": [
    {
     "data": {
      "image/png": "[encoded data removed]",
      "text/plain": [
       "<Figure size 640x480 with 1 Axes>"
      ]
     },
     "metadata": {},
     "output_type": "display_data"
    }
   ],
   "source": [
    "\n",
    "\n",
    "labels = [l for l, _ in counts]\n",
    "counts = [c for _, c in counts]\n",
    "\n",
    "# Make a random dataset:\n",
    "y_pos = np.arange(len(labels))\n",
    "\n",
    "# Create bars\n",
    "plt.bar(y_pos, counts)\n",
    "\n",
    "# Create names on the x-axis\n",
    "plt.xticks(y_pos, labels, rotation=90)\n",
    "\n",
    "# Show graphic\n",
    "plt.show()"
   ]
  },
  {
   "cell_type": "markdown",
   "metadata": {
    "pycharm": {
     "name": "#%% md\n"
    }
   },
   "source": [
    "# Static Parameters visualisation"
   ]
  },
  {
   "cell_type": "code",
   "execution_count": 27,
   "metadata": {
    "pycharm": {
     "name": "#%%\n"
    }
   },
   "outputs": [
    {
     "data": {
      "text/plain": [
       "-232136.70896702813"
      ]
     },
     "execution_count": 27,
     "metadata": {},
     "output_type": "execute_result"
    }
   ],
   "source": [
    "model = hmm.CategoricalHMM(n_components=7, n_iter=1000, init_params=\"s\")\n",
    "model.transmat_ = TRANSITION_PROBABILITIES_12UL.copy()\n",
    "model.emissionprob_ = EMISSION_PROBABILITIES_12UL.copy()\n",
    "model.startprob_ = START_PROBABILITIES_12UL.copy()\n",
    "\n",
    "model.score(np_data, lengths)"
   ]
  },
  {
   "cell_type": "code",
   "execution_count": 28,
   "metadata": {
    "pycharm": {
     "name": "#%%\n"
    }
   },
   "outputs": [
    {
     "data": {
      "image/png": "[encoded data removed]",
      "text/plain": [
       "<Figure size 640x480 with 1 Axes>"
      ]
     },
     "metadata": {},
     "output_type": "display_data"
    }
   ],
   "source": [
    "plt.imshow(model.transmat_, interpolation='none', cmap=colormaps[\"autumn\"])\n",
    "plt.show()"
   ]
  },
  {
   "cell_type": "code",
   "execution_count": 30,
   "metadata": {
    "pycharm": {
     "name": "#%%\n"
    }
   },
   "outputs": [
    {
     "data": {
      "image/png": "[encoded data removed]",
      "text/plain": [
       "<Figure size 640x480 with 1 Axes>"
      ]
     },
     "metadata": {},
     "output_type": "display_data"
    },
    {
     "data": {
      "image/png": "[encoded data removed]",
      "text/plain": [
       "<Figure size 640x480 with 1 Axes>"
      ]
     },
     "metadata": {},
     "output_type": "display_data"
    }
   ],
   "source": [
    "plt.imshow(model.emissionprob_, interpolation='none', cmap=colormaps[\"autumn\"])\n",
    "plt.show()"
   ]
  },
  {
   "cell_type": "code",
   "execution_count": 31,
   "metadata": {
    "pycharm": {
     "name": "#%%\n"
    }
   },
   "outputs": [
    {
     "data": {
      "image/png": "[encoded data removed]",
      "text/plain": [
       "<Figure size 640x480 with 1 Axes>"
      ]
     },
     "metadata": {},
     "output_type": "display_data"
    }
   ],
   "source": [
    "plt.imshow(np.array([model.startprob_]).reshape((7,1)), interpolation='none', cmap=colormaps[\"autumn\"])\n",
    "plt.show()"
   ]
  },
  {
   "cell_type": "markdown",
   "metadata": {
    "pycharm": {
     "name": "#%% md\n"
    }
   },
   "source": [
    "# Varia"
   ]
  },
  {
   "cell_type": "code",
   "execution_count": 139,
   "metadata": {
    "pycharm": {
     "name": "#%%\n"
    }
   },
   "outputs": [
    {
     "data": {
      "text/plain": "{'HILOK': 1,\n 'VTK': 2,\n 'VLK': -2,\n 'VGK': -3,\n 'VEK - ML': -6,\n 'Wetenschappen': -2,\n 'HERMES - GFK': 0,\n 'Politeia': -2,\n 'VRG': 0,\n 'VPPK': 2,\n 'HK': -3,\n 'Blandinia': 0,\n 'HILOK Ladies': 3,\n 'SK': 12,\n 'Lombrosiana - VBK': 16,\n 'Lila - VDK': 4,\n 'Antilopen': 22}"
     },
     "execution_count": 139,
     "metadata": {},
     "output_type": "execute_result"
    }
   ],
   "source": [
    "urenloop_count = [{\"count\": 875, \"team\": {\"id\": 1, \"name\": \"HILOK\"}}, {\"count\": 777, \"team\": {\"id\": 3, \"name\": \"VLK\"}}, {\"count\": 669, \"team\": {\"id\": 4, \"name\": \"Wetenschappen\"}}, {\"count\": 629, \"team\": {\"id\": 5, \"name\": \"VRG\"}}, {\"count\": 649, \"team\": {\"id\": 8, \"name\": \"HERMES - GFK\"}}, {\"count\": 553, \"team\": {\"id\": 9, \"name\": \"Lila - VDK\"}}, {\"count\": 626, \"team\": {\"id\": 10, \"name\": \"VPPK\"}}, {\"count\": 730, \"team\": {\"id\": 11, \"name\": \"VEK - ML\"}}, {\"count\": 631, \"team\": {\"id\": 12, \"name\": \"HK\"}}, {\"count\": 565, \"team\": {\"id\": 13, \"name\": \"Lombrosiana - VBK\"}}, {\"count\": 622, \"team\": {\"id\": 14, \"name\": \"Blandinia\"}}, {\"count\": 528, \"team\": {\"id\": 17, \"name\": \"Antilopen\"}}, {\"count\": 642, \"team\": {\"id\": 7, \"name\": \"Politeia\"}}, {\"count\": 613, \"team\": {\"id\": 22, \"name\": \"HILOK Ladies\"}}, {\"count\": 740, \"team\": {\"id\": 6, \"name\": \"VGK\"}}, {\"count\": 868, \"team\": {\"id\": 2, \"name\": \"VTK\"}}, {\"count\": 577, \"team\": {\"id\": 16, \"name\": \"SK\"}}]\n",
    "\n",
    "# eventual count with all sources addes\n",
    "urenloop_count = {entry[\"team\"][\"name\"]: entry[\"count\"] for entry in urenloop_count}\n",
    "\n",
    "# Only viterbi count - without manual data\n",
    "# urenloop_count = {team[\"name\"]: len([lap[\"timestamp\"] for lap in laps if lap[\"teamId\"] == team[\"id\"] and lap[\"lapSourceId\"] == 3]) for team in teams}\n",
    "\n",
    "own_count = [('HILOK', -876), ('VTK', -870), ('VLK', -775), ('VGK', -737), ('VEK - ML', -724), ('Wetenschappen', -667), ('HERMES - GFK', -649), ('Politeia', -640), ('VRG', -629), ('VPPK', -628), ('HK', -628), ('Blandinia', -622), ('HILOK Ladies', -616), ('SK', -589), ('Lombrosiana - VBK', -581), ('Lila - VDK', -557), ('Antilopen', -550)]\n",
    "\n",
    "own_count = {entry[0]: -entry[1] for entry in own_count}\n",
    "\n",
    "diff = {k: v-urenloop_count[k] for k, v in own_count.items()}\n",
    "diff"
   ]
  },
  {
   "cell_type": "code",
   "execution_count": 140,
   "metadata": {
    "pycharm": {
     "name": "#%%\n"
    }
   },
   "outputs": [
    {
     "data": {
      "text/plain": "<Figure size 640x480 with 1 Axes>",
      "image/png": "[encoded data removed]"
     },
     "metadata": {},
     "output_type": "display_data"
    }
   ],
   "source": [
    "# Make a random dataset:\n",
    "y_pos = np.arange(len(labels))\n",
    "\n",
    "# Create bars\n",
    "plt.bar(y_pos, diff.values())\n",
    "\n",
    "# Create names on the x-axis\n",
    "plt.xticks(y_pos, diff.keys(), rotation=90)\n",
    "\n",
    "# Show graphic\n",
    "plt.show()"
   ]
  },
  {
   "cell_type": "markdown",
   "metadata": {
    "jp-MarkdownHeadingCollapsed": true,
    "pycharm": {
     "name": "#%% md\n"
    },
    "tags": []
   },
   "source": [
    "# Varia"
   ]
  },
  {
   "cell_type": "code",
   "execution_count": 138,
   "metadata": {
    "pycharm": {
     "name": "#%%\n"
    }
   },
   "outputs": [
    {
     "data": {
      "text/plain": "{'Antilopen': 522,\n 'Lila - VDK': 542,\n 'Lombrosiana - VBK': 568,\n 'SK': 580,\n 'HILOK Ladies': 35,\n 'Blandinia': 618,\n 'VPPK': 621,\n 'VRG': 622,\n 'Politeia': 627,\n 'HK': 628,\n 'HERMES - GFK': 649,\n 'Wetenschappen': 662,\n 'VGK': 685,\n 'VEK - ML': 707,\n 'VLK': 764,\n 'VTK': 864,\n 'HILOK': 873}"
     },
     "execution_count": 138,
     "metadata": {},
     "output_type": "execute_result"
    }
   ],
   "source": [
    "urenloop_count = [{\"count\": 875, \"team\": {\"id\": 1, \"name\": \"HILOK\"}}, {\"count\": 777, \"team\": {\"id\": 3, \"name\": \"VLK\"}}, {\"count\": 669, \"team\": {\"id\": 4, \"name\": \"Wetenschappen\"}}, {\"count\": 629, \"team\": {\"id\": 5, \"name\": \"VRG\"}}, {\"count\": 649, \"team\": {\"id\": 8, \"name\": \"HERMES - GFK\"}}, {\"count\": 553, \"team\": {\"id\": 9, \"name\": \"Lila - VDK\"}}, {\"count\": 626, \"team\": {\"id\": 10, \"name\": \"VPPK\"}}, {\"count\": 730, \"team\": {\"id\": 11, \"name\": \"VEK - ML\"}}, {\"count\": 631, \"team\": {\"id\": 12, \"name\": \"HK\"}}, {\"count\": 565, \"team\": {\"id\": 13, \"name\": \"Lombrosiana - VBK\"}}, {\"count\": 622, \"team\": {\"id\": 14, \"name\": \"Blandinia\"}}, {\"count\": 528, \"team\": {\"id\": 17, \"name\": \"Antilopen\"}}, {\"count\": 642, \"team\": {\"id\": 7, \"name\": \"Politeia\"}}, {\"count\": 613, \"team\": {\"id\": 22, \"name\": \"HILOK Ladies\"}}, {\"count\": 740, \"team\": {\"id\": 6, \"name\": \"VGK\"}}, {\"count\": 868, \"team\": {\"id\": 2, \"name\": \"VTK\"}}, {\"count\": 577, \"team\": {\"id\": 16, \"name\": \"SK\"}}]\n",
    "\n",
    "# eventual count with all sources addes\n",
    "#urenloop_count = {entry[\"team\"][\"name\"]: entry[\"count\"] for entry in urenloop_count}\n",
    "\n",
    "# Only viterbi count - without manual data\n",
    "urenloop_count = {team[\"name\"]: len([lap[\"timestamp\"] for lap in laps if lap[\"teamId\"] == team[\"id\"] and lap[\"lapSourceId\"] == 3]) for team in teams}\n",
    "\n",
    "own_count = [('Antilopen', 522), ('Lila - VDK', 542), ('Lombrosiana - VBK', 568), ('SK', 580), ('HILOK Ladies', 613), ('Blandinia', 618), ('VPPK', 621), ('VRG', 622), ('Politeia', 627), ('HK', 628), ('HERMES - GFK', 649), ('Wetenschappen', 662), ('VGK', 685), ('VEK - ML', 707), ('VLK', 764), ('VTK', 864), ('HILOK', 873)]\n",
    "\n",
    "own_count = {entry[0]: entry[1] for entry in own_count}\n",
    "\n",
    "diff = {k: v-urenloop_count[k] for k, v in own_count.items()}\n",
    "diff"
   ]
  },
  {
   "cell_type": "code",
   "execution_count": 34,
   "metadata": {
    "pycharm": {
     "name": "#%%\n"
    }
   },
   "outputs": [
    {
     "name": "stdout",
     "output_type": "stream",
     "text": [
      "692\n"
     ]
    }
   ],
   "source": [
    "# Make a random dataset:\n",
    "y_pos = np.arange(len(labels))\n",
    "\n",
    "# Create bars\n",
    "plt.bar(y_pos, diff.values())\n",
    "\n",
    "# Create names on the x-axis\n",
    "plt.xticks(y_pos, diff.keys(), rotation=90)\n",
    "\n",
    "# Show graphic\n",
    "plt.show()"
   ]
  },
  {
   "cell_type": "code",
   "execution_count": 35,
   "metadata": {
    "pycharm": {
     "name": "#%%\n"
    }
   },
   "outputs": [
    {
     "data": {
      "text/plain": [
       "[{'id': 1, 'name': 'HILOK', 'batonId': 18},\n",
       " {'id': 3, 'name': 'VLK', 'batonId': 12},\n",
       " {'id': 4, 'name': 'Wetenschappen', 'batonId': 6},\n",
       " {'id': 5, 'name': 'VRG', 'batonId': 9},\n",
       " {'id': 8, 'name': 'HERMES - GFK', 'batonId': 10},\n",
       " {'id': 9, 'name': 'Lila - VDK', 'batonId': 21},\n",
       " {'id': 10, 'name': 'VPPK', 'batonId': 19},\n",
       " {'id': 11, 'name': 'VEK - ML', 'batonId': 7},\n",
       " {'id': 12, 'name': 'HK', 'batonId': 13},\n",
       " {'id': 13, 'name': 'Lombrosiana - VBK', 'batonId': 2},\n",
       " {'id': 14, 'name': 'Blandinia', 'batonId': 4},\n",
       " {'id': 17, 'name': 'Antilopen', 'batonId': 16},\n",
       " {'id': 7, 'name': 'Politeia', 'batonId': 3},\n",
       " {'id': 22, 'name': 'HILOK Ladies', 'batonId': 8},\n",
       " {'id': 6, 'name': 'VGK', 'batonId': 17},\n",
       " {'id': 2, 'name': 'VTK', 'batonId': 15},\n",
       " {'id': 16, 'name': 'SK', 'batonId': 22}]"
      ]
     },
     "execution_count": 35,
     "metadata": {},
     "output_type": "execute_result"
    }
   ],
   "source": [
    "i = 6\n",
    "relative_laptimes = []\n",
    "prev = team_laps[i][0]\n",
    "for time in team_laps[i][1:]:\n",
    "    relative_laptimes.append((time-prev)/1000)\n",
    "    prev = time\n",
    "\n",
    "plt.figure(figsize=(20, 4))\n",
    "plt.plot(np.array(relative_laptimes))\n",
    "plt.show()\n",
    "\n",
    "lapss = [lap[\"timestamp\"] for lap in laps if lap[\"teamId\"] == i and lap[\"lapSourceId\"] == 3]\n",
    "\n",
    "relative_laptimes = []\n",
    "prev = lapss[0]\n",
    "for time in lapss[1:]:\n",
    "    relative_laptimes.append((time-prev)/1000)\n",
    "    prev = time\n",
    "\n",
    "plt.figure(figsize=(20, 4))\n",
    "plt.plot(np.array(relative_laptimes))\n",
    "plt.show()"
   ]
  },
  {
   "cell_type": "code",
   "execution_count": 109,
   "metadata": {
    "pycharm": {
     "name": "#%%\n"
    }
   },
   "outputs": [
    {
     "name": "stdout",
     "output_type": "stream",
     "text": [
      "48\n"
     ]
    }
   ],
   "source": [
    "print(len([lap[\"timestamp\"] for lap in laps if lap[\"teamId\"] == 6 and lap[\"lapSourceId\"] == 1]))"
   ]
  },
  {
   "cell_type": "code",
   "execution_count": 131,
   "metadata": {
    "pycharm": {
     "name": "#%%\n"
    }
   },
   "outputs": [
    {
     "name": "stdout",
     "output_type": "stream",
     "text": [
      "692\n"
     ]
    }
   ],
   "source": [
    "print(len([lap[\"timestamp\"] for lap in laps if lap[\"teamId\"] == 6 and lap[\"lapSourceId\"] == 3]))"
   ]
  },
  {
   "cell_type": "code",
   "execution_count": 48,
   "metadata": {
    "pycharm": {
     "name": "#%%\n"
    }
   },
   "outputs": [
    {
     "data": {
      "text/plain": [
       "[{'id': 1, 'name': 'HILOK', 'batonId': 18},\n",
       " {'id': 3, 'name': 'VLK', 'batonId': 12},\n",
       " {'id': 4, 'name': 'Wetenschappen', 'batonId': 6},\n",
       " {'id': 5, 'name': 'VRG', 'batonId': 9},\n",
       " {'id': 8, 'name': 'HERMES - GFK', 'batonId': 10},\n",
       " {'id': 9, 'name': 'Lila - VDK', 'batonId': 21},\n",
       " {'id': 10, 'name': 'VPPK', 'batonId': 19},\n",
       " {'id': 11, 'name': 'VEK - ML', 'batonId': 7},\n",
       " {'id': 12, 'name': 'HK', 'batonId': 13},\n",
       " {'id': 13, 'name': 'Lombrosiana - VBK', 'batonId': 2},\n",
       " {'id': 14, 'name': 'Blandinia', 'batonId': 4},\n",
       " {'id': 17, 'name': 'Antilopen', 'batonId': 16},\n",
       " {'id': 7, 'name': 'Politeia', 'batonId': 3},\n",
       " {'id': 22, 'name': 'HILOK Ladies', 'batonId': 8},\n",
       " {'id': 6, 'name': 'VGK', 'batonId': 17},\n",
       " {'id': 2, 'name': 'VTK', 'batonId': 15},\n",
       " {'id': 16, 'name': 'SK', 'batonId': 22}]"
      ]
     },
     "execution_count": 48,
     "metadata": {},
     "output_type": "execute_result"
    }
   ],
   "source": [
    "teams"
   ]
  },
  {
   "cell_type": "code",
   "execution_count": 120,
   "metadata": {
    "pycharm": {
     "name": "#%%\n"
    }
   },
   "outputs": [
    {
     "data": {
      "text/plain": "<IPython.core.display.Javascript object>",
      "application/javascript": "/* Put everything inside the global mpl namespace */\n/* global mpl */\nwindow.mpl = {};\n\nmpl.get_websocket_type = function () {\n    if (typeof WebSocket !== 'undefined') {\n        return WebSocket;\n    } else if (typeof MozWebSocket !== 'undefined') {\n        return MozWebSocket;\n    } else {\n        alert(\n            'Your browser does not have WebSocket support. ' +\n                'Please try Chrome, Safari or Firefox ≥ 6. ' +\n                'Firefox 4 and 5 are also supported but you ' +\n                'have to enable WebSockets in about:config.'\n        );\n    }\n};\n\nmpl.figure = function (figure_id, websocket, ondownload, parent_element) {\n    this.id = figure_id;\n\n    this.ws = websocket;\n\n    this.supports_binary = this.ws.binaryType !== undefined;\n\n    if (!this.supports_binary) {\n        var warnings = document.getElementById('mpl-warnings');\n        if (warnings) {\n            warnings.style.display = 'block';\n            warnings.textContent =\n                'This browser does not support binary websocket messages. ' +\n                'Performance may be slow.';\n        }\n    }\n\n    this.imageObj = new Image();\n\n    this.context = undefined;\n    this.message = undefined;\n    this.canvas = undefined;\n    this.rubberband_canvas = undefined;\n    this.rubberband_context = undefined;\n    this.format_dropdown = undefined;\n\n    this.image_mode = 'full';\n\n    this.root = document.createElement('div');\n    this.root.setAttribute('style', 'display: inline-block');\n    this._root_extra_style(this.root);\n\n    parent_element.appendChild(this.root);\n\n    this._init_header(this);\n    this._init_canvas(this);\n    this._init_toolbar(this);\n\n    var fig = this;\n\n    this.waiting = false;\n\n    this.ws.onopen = function () {\n        fig.send_message('supports_binary', { value: fig.supports_binary });\n        fig.send_message('send_image_mode', {});\n        if (fig.ratio !== 1) {\n            fig.send_message('set_device_pixel_ratio', {\n                device_pixel_ratio: fig.ratio,\n            });\n        }\n        fig.send_message('refresh', {});\n    };\n\n    this.imageObj.onload = function () {\n        if (fig.image_mode === 'full') {\n            // Full images could contain transparency (where diff images\n            // almost always do), so we need to clear the canvas so that\n            // there is no ghosting.\n            fig.context.clearRect(0, 0, fig.canvas.width, fig.canvas.height);\n        }\n        fig.context.drawImage(fig.imageObj, 0, 0);\n    };\n\n    this.imageObj.onunload = function () {\n        fig.ws.close();\n    };\n\n    this.ws.onmessage = this._make_on_message_function(this);\n\n    this.ondownload = ondownload;\n};\n\nmpl.figure.prototype._init_header = function () {\n    var titlebar = document.createElement('div');\n    titlebar.classList =\n        'ui-dialog-titlebar ui-widget-header ui-corner-all ui-helper-clearfix';\n    var titletext = document.createElement('div');\n    titletext.classList = 'ui-dialog-title';\n    titletext.setAttribute(\n        'style',\n        'width: 100%; text-align: center; padding: 3px;'\n    );\n    titlebar.appendChild(titletext);\n    this.root.appendChild(titlebar);\n    this.header = titletext;\n};\n\nmpl.figure.prototype._canvas_extra_style = function (_canvas_div) {};\n\nmpl.figure.prototype._root_extra_style = function (_canvas_div) {};\n\nmpl.figure.prototype._init_canvas = function () {\n    var fig = this;\n\n    var canvas_div = (this.canvas_div = document.createElement('div'));\n    canvas_div.setAttribute('tabindex', '0');\n    canvas_div.setAttribute(\n        'style',\n        'border: 1px solid #ddd;' +\n            'box-sizing: content-box;' +\n            'clear: both;' +\n            'min-height: 1px;' +\n            'min-width: 1px;' +\n            'outline: 0;' +\n            'overflow: hidden;' +\n            'position: relative;' +\n            'resize: both;' +\n            'z-index: 2;'\n    );\n\n    function on_keyboard_event_closure(name) {\n        return function (event) {\n            return fig.key_event(event, name);\n        };\n    }\n\n    canvas_div.addEventListener(\n        'keydown',\n        on_keyboard_event_closure('key_press')\n    );\n    canvas_div.addEventListener(\n        'keyup',\n        on_keyboard_event_closure('key_release')\n    );\n\n    this._canvas_extra_style(canvas_div);\n    this.root.appendChild(canvas_div);\n\n    var canvas = (this.canvas = document.createElement('canvas'));\n    canvas.classList.add('mpl-canvas');\n    canvas.setAttribute(\n        'style',\n        'box-sizing: content-box;' +\n            'pointer-events: none;' +\n            'position: relative;' +\n            'z-index: 0;'\n    );\n\n    this.context = canvas.getContext('2d');\n\n    var backingStore =\n        this.context.backingStorePixelRatio ||\n        this.context.webkitBackingStorePixelRatio ||\n        this.context.mozBackingStorePixelRatio ||\n        this.context.msBackingStorePixelRatio ||\n        this.context.oBackingStorePixelRatio ||\n        this.context.backingStorePixelRatio ||\n        1;\n\n    this.ratio = (window.devicePixelRatio || 1) / backingStore;\n\n    var rubberband_canvas = (this.rubberband_canvas = document.createElement(\n        'canvas'\n    ));\n    rubberband_canvas.setAttribute(\n        'style',\n        'box-sizing: content-box;' +\n            'left: 0;' +\n            'pointer-events: none;' +\n            'position: absolute;' +\n            'top: 0;' +\n            'z-index: 1;'\n    );\n\n    // Apply a ponyfill if ResizeObserver is not implemented by browser.\n    if (this.ResizeObserver === undefined) {\n        if (window.ResizeObserver !== undefined) {\n            this.ResizeObserver = window.ResizeObserver;\n        } else {\n            var obs = _JSXTOOLS_RESIZE_OBSERVER({});\n            this.ResizeObserver = obs.ResizeObserver;\n        }\n    }\n\n    this.resizeObserverInstance = new this.ResizeObserver(function (entries) {\n        var nentries = entries.length;\n        for (var i = 0; i < nentries; i++) {\n            var entry = entries[i];\n            var width, height;\n            if (entry.contentBoxSize) {\n                if (entry.contentBoxSize instanceof Array) {\n                    // Chrome 84 implements new version of spec.\n                    width = entry.contentBoxSize[0].inlineSize;\n                    height = entry.contentBoxSize[0].blockSize;\n                } else {\n                    // Firefox implements old version of spec.\n                    width = entry.contentBoxSize.inlineSize;\n                    height = entry.contentBoxSize.blockSize;\n                }\n            } else {\n                // Chrome <84 implements even older version of spec.\n                width = entry.contentRect.width;\n                height = entry.contentRect.height;\n            }\n\n            // Keep the size of the canvas and rubber band canvas in sync with\n            // the canvas container.\n            if (entry.devicePixelContentBoxSize) {\n                // Chrome 84 implements new version of spec.\n                canvas.setAttribute(\n                    'width',\n                    entry.devicePixelContentBoxSize[0].inlineSize\n                );\n                canvas.setAttribute(\n                    'height',\n                    entry.devicePixelContentBoxSize[0].blockSize\n                );\n            } else {\n                canvas.setAttribute('width', width * fig.ratio);\n                canvas.setAttribute('height', height * fig.ratio);\n            }\n            /* This rescales the canvas back to display pixels, so that it\n             * appears correct on HiDPI screens. */\n            canvas.style.width = width + 'px';\n            canvas.style.height = height + 'px';\n\n            rubberband_canvas.setAttribute('width', width);\n            rubberband_canvas.setAttribute('height', height);\n\n            // And update the size in Python. We ignore the initial 0/0 size\n            // that occurs as the element is placed into the DOM, which should\n            // otherwise not happen due to the minimum size styling.\n            if (fig.ws.readyState == 1 && width != 0 && height != 0) {\n                fig.request_resize(width, height);\n            }\n        }\n    });\n    this.resizeObserverInstance.observe(canvas_div);\n\n    function on_mouse_event_closure(name) {\n        /* User Agent sniffing is bad, but WebKit is busted:\n         * https://bugs.webkit.org/show_bug.cgi?id=144526\n         * https://bugs.webkit.org/show_bug.cgi?id=181818\n         * The worst that happens here is that they get an extra browser\n         * selection when dragging, if this check fails to catch them.\n         */\n        var UA = navigator.userAgent;\n        var isWebKit = /AppleWebKit/.test(UA) && !/Chrome/.test(UA);\n        if(isWebKit) {\n            return function (event) {\n                /* This prevents the web browser from automatically changing to\n                 * the text insertion cursor when the button is pressed. We\n                 * want to control all of the cursor setting manually through\n                 * the 'cursor' event from matplotlib */\n                event.preventDefault()\n                return fig.mouse_event(event, name);\n            };\n        } else {\n            return function (event) {\n                return fig.mouse_event(event, name);\n            };\n        }\n    }\n\n    canvas_div.addEventListener(\n        'mousedown',\n        on_mouse_event_closure('button_press')\n    );\n    canvas_div.addEventListener(\n        'mouseup',\n        on_mouse_event_closure('button_release')\n    );\n    canvas_div.addEventListener(\n        'dblclick',\n        on_mouse_event_closure('dblclick')\n    );\n    // Throttle sequential mouse events to 1 every 20ms.\n    canvas_div.addEventListener(\n        'mousemove',\n        on_mouse_event_closure('motion_notify')\n    );\n\n    canvas_div.addEventListener(\n        'mouseenter',\n        on_mouse_event_closure('figure_enter')\n    );\n    canvas_div.addEventListener(\n        'mouseleave',\n        on_mouse_event_closure('figure_leave')\n    );\n\n    canvas_div.addEventListener('wheel', function (event) {\n        if (event.deltaY < 0) {\n            event.step = 1;\n        } else {\n            event.step = -1;\n        }\n        on_mouse_event_closure('scroll')(event);\n    });\n\n    canvas_div.appendChild(canvas);\n    canvas_div.appendChild(rubberband_canvas);\n\n    this.rubberband_context = rubberband_canvas.getContext('2d');\n    this.rubberband_context.strokeStyle = '#000000';\n\n    this._resize_canvas = function (width, height, forward) {\n        if (forward) {\n            canvas_div.style.width = width + 'px';\n            canvas_div.style.height = height + 'px';\n        }\n    };\n\n    // Disable right mouse context menu.\n    canvas_div.addEventListener('contextmenu', function (_e) {\n        event.preventDefault();\n        return false;\n    });\n\n    function set_focus() {\n        canvas.focus();\n        canvas_div.focus();\n    }\n\n    window.setTimeout(set_focus, 100);\n};\n\nmpl.figure.prototype._init_toolbar = function () {\n    var fig = this;\n\n    var toolbar = document.createElement('div');\n    toolbar.classList = 'mpl-toolbar';\n    this.root.appendChild(toolbar);\n\n    function on_click_closure(name) {\n        return function (_event) {\n            return fig.toolbar_button_onclick(name);\n        };\n    }\n\n    function on_mouseover_closure(tooltip) {\n        return function (event) {\n            if (!event.currentTarget.disabled) {\n                return fig.toolbar_button_onmouseover(tooltip);\n            }\n        };\n    }\n\n    fig.buttons = {};\n    var buttonGroup = document.createElement('div');\n    buttonGroup.classList = 'mpl-button-group';\n    for (var toolbar_ind in mpl.toolbar_items) {\n        var name = mpl.toolbar_items[toolbar_ind][0];\n        var tooltip = mpl.toolbar_items[toolbar_ind][1];\n        var image = mpl.toolbar_items[toolbar_ind][2];\n        var method_name = mpl.toolbar_items[toolbar_ind][3];\n\n        if (!name) {\n            /* Instead of a spacer, we start a new button group. */\n            if (buttonGroup.hasChildNodes()) {\n                toolbar.appendChild(buttonGroup);\n            }\n            buttonGroup = document.createElement('div');\n            buttonGroup.classList = 'mpl-button-group';\n            continue;\n        }\n\n        var button = (fig.buttons[name] = document.createElement('button'));\n        button.classList = 'mpl-widget';\n        button.setAttribute('role', 'button');\n        button.setAttribute('aria-disabled', 'false');\n        button.addEventListener('click', on_click_closure(method_name));\n        button.addEventListener('mouseover', on_mouseover_closure(tooltip));\n\n        var icon_img = document.createElement('img');\n        icon_img.src = '_images/' + image + '.png';\n        icon_img.srcset = '_images/' + image + '_large.png 2x';\n        icon_img.alt = tooltip;\n        button.appendChild(icon_img);\n\n        buttonGroup.appendChild(button);\n    }\n\n    if (buttonGroup.hasChildNodes()) {\n        toolbar.appendChild(buttonGroup);\n    }\n\n    var fmt_picker = document.createElement('select');\n    fmt_picker.classList = 'mpl-widget';\n    toolbar.appendChild(fmt_picker);\n    this.format_dropdown = fmt_picker;\n\n    for (var ind in mpl.extensions) {\n        var fmt = mpl.extensions[ind];\n        var option = document.createElement('option');\n        option.selected = fmt === mpl.default_extension;\n        option.innerHTML = fmt;\n        fmt_picker.appendChild(option);\n    }\n\n    var status_bar = document.createElement('span');\n    status_bar.classList = 'mpl-message';\n    toolbar.appendChild(status_bar);\n    this.message = status_bar;\n};\n\nmpl.figure.prototype.request_resize = function (x_pixels, y_pixels) {\n    // Request matplotlib to resize the figure. Matplotlib will then trigger a resize in the client,\n    // which will in turn request a refresh of the image.\n    this.send_message('resize', { width: x_pixels, height: y_pixels });\n};\n\nmpl.figure.prototype.send_message = function (type, properties) {\n    properties['type'] = type;\n    properties['figure_id'] = this.id;\n    this.ws.send(JSON.stringify(properties));\n};\n\nmpl.figure.prototype.send_draw_message = function () {\n    if (!this.waiting) {\n        this.waiting = true;\n        this.ws.send(JSON.stringify({ type: 'draw', figure_id: this.id }));\n    }\n};\n\nmpl.figure.prototype.handle_save = function (fig, _msg) {\n    var format_dropdown = fig.format_dropdown;\n    var format = format_dropdown.options[format_dropdown.selectedIndex].value;\n    fig.ondownload(fig, format);\n};\n\nmpl.figure.prototype.handle_resize = function (fig, msg) {\n    var size = msg['size'];\n    if (size[0] !== fig.canvas.width || size[1] !== fig.canvas.height) {\n        fig._resize_canvas(size[0], size[1], msg['forward']);\n        fig.send_message('refresh', {});\n    }\n};\n\nmpl.figure.prototype.handle_rubberband = function (fig, msg) {\n    var x0 = msg['x0'] / fig.ratio;\n    var y0 = (fig.canvas.height - msg['y0']) / fig.ratio;\n    var x1 = msg['x1'] / fig.ratio;\n    var y1 = (fig.canvas.height - msg['y1']) / fig.ratio;\n    x0 = Math.floor(x0) + 0.5;\n    y0 = Math.floor(y0) + 0.5;\n    x1 = Math.floor(x1) + 0.5;\n    y1 = Math.floor(y1) + 0.5;\n    var min_x = Math.min(x0, x1);\n    var min_y = Math.min(y0, y1);\n    var width = Math.abs(x1 - x0);\n    var height = Math.abs(y1 - y0);\n\n    fig.rubberband_context.clearRect(\n        0,\n        0,\n        fig.canvas.width / fig.ratio,\n        fig.canvas.height / fig.ratio\n    );\n\n    fig.rubberband_context.strokeRect(min_x, min_y, width, height);\n};\n\nmpl.figure.prototype.handle_figure_label = function (fig, msg) {\n    // Updates the figure title.\n    fig.header.textContent = msg['label'];\n};\n\nmpl.figure.prototype.handle_cursor = function (fig, msg) {\n    fig.canvas_div.style.cursor = msg['cursor'];\n};\n\nmpl.figure.prototype.handle_message = function (fig, msg) {\n    fig.message.textContent = msg['message'];\n};\n\nmpl.figure.prototype.handle_draw = function (fig, _msg) {\n    // Request the server to send over a new figure.\n    fig.send_draw_message();\n};\n\nmpl.figure.prototype.handle_image_mode = function (fig, msg) {\n    fig.image_mode = msg['mode'];\n};\n\nmpl.figure.prototype.handle_history_buttons = function (fig, msg) {\n    for (var key in msg) {\n        if (!(key in fig.buttons)) {\n            continue;\n        }\n        fig.buttons[key].disabled = !msg[key];\n        fig.buttons[key].setAttribute('aria-disabled', !msg[key]);\n    }\n};\n\nmpl.figure.prototype.handle_navigate_mode = function (fig, msg) {\n    if (msg['mode'] === 'PAN') {\n        fig.buttons['Pan'].classList.add('active');\n        fig.buttons['Zoom'].classList.remove('active');\n    } else if (msg['mode'] === 'ZOOM') {\n        fig.buttons['Pan'].classList.remove('active');\n        fig.buttons['Zoom'].classList.add('active');\n    } else {\n        fig.buttons['Pan'].classList.remove('active');\n        fig.buttons['Zoom'].classList.remove('active');\n    }\n};\n\nmpl.figure.prototype.updated_canvas_event = function () {\n    // Called whenever the canvas gets updated.\n    this.send_message('ack', {});\n};\n\n// A function to construct a web socket function for onmessage handling.\n// Called in the figure constructor.\nmpl.figure.prototype._make_on_message_function = function (fig) {\n    return function socket_on_message(evt) {\n        if (evt.data instanceof Blob) {\n            var img = evt.data;\n            if (img.type !== 'image/png') {\n                /* FIXME: We get \"Resource interpreted as Image but\n                 * transferred with MIME type text/plain:\" errors on\n                 * Chrome.  But how to set the MIME type?  It doesn't seem\n                 * to be part of the websocket stream */\n                img.type = 'image/png';\n            }\n\n            /* Free the memory for the previous frames */\n            if (fig.imageObj.src) {\n                (window.URL || window.webkitURL).revokeObjectURL(\n                    fig.imageObj.src\n                );\n            }\n\n            fig.imageObj.src = (window.URL || window.webkitURL).createObjectURL(\n                img\n            );\n            fig.updated_canvas_event();\n            fig.waiting = false;\n            return;\n        } else if (\n            typeof evt.data === 'string' &&\n            evt.data.slice(0, 21) === 'data:image/png;base64'\n        ) {\n            fig.imageObj.src = evt.data;\n            fig.updated_canvas_event();\n            fig.waiting = false;\n            return;\n        }\n\n        var msg = JSON.parse(evt.data);\n        var msg_type = msg['type'];\n\n        // Call the  \"handle_{type}\" callback, which takes\n        // the figure and JSON message as its only arguments.\n        try {\n            var callback = fig['handle_' + msg_type];\n        } catch (e) {\n            console.log(\n                \"No handler for the '\" + msg_type + \"' message type: \",\n                msg\n            );\n            return;\n        }\n\n        if (callback) {\n            try {\n                // console.log(\"Handling '\" + msg_type + \"' message: \", msg);\n                callback(fig, msg);\n            } catch (e) {\n                console.log(\n                    \"Exception inside the 'handler_\" + msg_type + \"' callback:\",\n                    e,\n                    e.stack,\n                    msg\n                );\n            }\n        }\n    };\n};\n\n\n/*\n * return a copy of an object with only non-object keys\n * we need this to avoid circular references\n * https://stackoverflow.com/a/24161582/3208463\n */\nfunction simpleKeys(original) {\n    return Object.keys(original).reduce(function (obj, key) {\n        if (typeof original[key] !== 'object') {\n            obj[key] = original[key];\n        }\n        return obj;\n    }, {});\n}\n\nmpl.figure.prototype.mouse_event = function (event, name) {\n    if (name === 'button_press') {\n        this.canvas.focus();\n        this.canvas_div.focus();\n    }\n\n    // from https://stackoverflow.com/q/1114465\n    var boundingRect = this.canvas.getBoundingClientRect();\n    var x = (event.clientX - boundingRect.left) * this.ratio;\n    var y = (event.clientY - boundingRect.top) * this.ratio;\n\n    this.send_message(name, {\n        x: x,\n        y: y,\n        button: event.button,\n        step: event.step,\n        guiEvent: simpleKeys(event),\n    });\n\n    return false;\n};\n\nmpl.figure.prototype._key_event_extra = function (_event, _name) {\n    // Handle any extra behaviour associated with a key event\n};\n\nmpl.figure.prototype.key_event = function (event, name) {\n    // Prevent repeat events\n    if (name === 'key_press') {\n        if (event.key === this._key) {\n            return;\n        } else {\n            this._key = event.key;\n        }\n    }\n    if (name === 'key_release') {\n        this._key = null;\n    }\n\n    var value = '';\n    if (event.ctrlKey && event.key !== 'Control') {\n        value += 'ctrl+';\n    }\n    else if (event.altKey && event.key !== 'Alt') {\n        value += 'alt+';\n    }\n    else if (event.shiftKey && event.key !== 'Shift') {\n        value += 'shift+';\n    }\n\n    value += 'k' + event.key;\n\n    this._key_event_extra(event, name);\n\n    this.send_message(name, { key: value, guiEvent: simpleKeys(event) });\n    return false;\n};\n\nmpl.figure.prototype.toolbar_button_onclick = function (name) {\n    if (name === 'download') {\n        this.handle_save(this, null);\n    } else {\n        this.send_message('toolbar_button', { name: name });\n    }\n};\n\nmpl.figure.prototype.toolbar_button_onmouseover = function (tooltip) {\n    this.message.textContent = tooltip;\n};\n\n///////////////// REMAINING CONTENT GENERATED BY embed_js.py /////////////////\n// prettier-ignore\nvar _JSXTOOLS_RESIZE_OBSERVER=function(A){var t,i=new WeakMap,n=new WeakMap,a=new WeakMap,r=new WeakMap,o=new Set;function s(e){if(!(this instanceof s))throw new TypeError(\"Constructor requires 'new' operator\");i.set(this,e)}function h(){throw new TypeError(\"Function is not a constructor\")}function c(e,t,i,n){e=0 in arguments?Number(arguments[0]):0,t=1 in arguments?Number(arguments[1]):0,i=2 in arguments?Number(arguments[2]):0,n=3 in arguments?Number(arguments[3]):0,this.right=(this.x=this.left=e)+(this.width=i),this.bottom=(this.y=this.top=t)+(this.height=n),Object.freeze(this)}function d(){t=requestAnimationFrame(d);var s=new WeakMap,p=new Set;o.forEach((function(t){r.get(t).forEach((function(i){var r=t instanceof window.SVGElement,o=a.get(t),d=r?0:parseFloat(o.paddingTop),f=r?0:parseFloat(o.paddingRight),l=r?0:parseFloat(o.paddingBottom),u=r?0:parseFloat(o.paddingLeft),g=r?0:parseFloat(o.borderTopWidth),m=r?0:parseFloat(o.borderRightWidth),w=r?0:parseFloat(o.borderBottomWidth),b=u+f,F=d+l,v=(r?0:parseFloat(o.borderLeftWidth))+m,W=g+w,y=r?0:t.offsetHeight-W-t.clientHeight,E=r?0:t.offsetWidth-v-t.clientWidth,R=b+v,z=F+W,M=r?t.width:parseFloat(o.width)-R-E,O=r?t.height:parseFloat(o.height)-z-y;if(n.has(t)){var k=n.get(t);if(k[0]===M&&k[1]===O)return}n.set(t,[M,O]);var S=Object.create(h.prototype);S.target=t,S.contentRect=new c(u,d,M,O),s.has(i)||(s.set(i,[]),p.add(i)),s.get(i).push(S)}))})),p.forEach((function(e){i.get(e).call(e,s.get(e),e)}))}return s.prototype.observe=function(i){if(i instanceof window.Element){r.has(i)||(r.set(i,new Set),o.add(i),a.set(i,window.getComputedStyle(i)));var n=r.get(i);n.has(this)||n.add(this),cancelAnimationFrame(t),t=requestAnimationFrame(d)}},s.prototype.unobserve=function(i){if(i instanceof window.Element&&r.has(i)){var n=r.get(i);n.has(this)&&(n.delete(this),n.size||(r.delete(i),o.delete(i))),n.size||r.delete(i),o.size||cancelAnimationFrame(t)}},A.DOMRectReadOnly=c,A.ResizeObserver=s,A.ResizeObserverEntry=h,A}; // eslint-disable-line\nmpl.toolbar_items = [[\"Home\", \"Reset original view\", \"fa fa-home\", \"home\"], [\"Back\", \"Back to previous view\", \"fa fa-arrow-left\", \"back\"], [\"Forward\", \"Forward to next view\", \"fa fa-arrow-right\", \"forward\"], [\"\", \"\", \"\", \"\"], [\"Pan\", \"Left button pans, Right button zooms\\nx/y fixes axis, CTRL fixes aspect\", \"fa fa-arrows\", \"pan\"], [\"Zoom\", \"Zoom to rectangle\\nx/y fixes axis\", \"fa fa-square-o\", \"zoom\"], [\"\", \"\", \"\", \"\"], [\"Download\", \"Download plot\", \"fa fa-floppy-o\", \"download\"]];\n\nmpl.extensions = [\"eps\", \"jpeg\", \"pgf\", \"pdf\", \"png\", \"ps\", \"raw\", \"svg\", \"tif\", \"webp\"];\n\nmpl.default_extension = \"png\";/* global mpl */\n\nvar comm_websocket_adapter = function (comm) {\n    // Create a \"websocket\"-like object which calls the given IPython comm\n    // object with the appropriate methods. Currently this is a non binary\n    // socket, so there is still some room for performance tuning.\n    var ws = {};\n\n    ws.binaryType = comm.kernel.ws.binaryType;\n    ws.readyState = comm.kernel.ws.readyState;\n    function updateReadyState(_event) {\n        if (comm.kernel.ws) {\n            ws.readyState = comm.kernel.ws.readyState;\n        } else {\n            ws.readyState = 3; // Closed state.\n        }\n    }\n    comm.kernel.ws.addEventListener('open', updateReadyState);\n    comm.kernel.ws.addEventListener('close', updateReadyState);\n    comm.kernel.ws.addEventListener('error', updateReadyState);\n\n    ws.close = function () {\n        comm.close();\n    };\n    ws.send = function (m) {\n        //console.log('sending', m);\n        comm.send(m);\n    };\n    // Register the callback with on_msg.\n    comm.on_msg(function (msg) {\n        //console.log('receiving', msg['content']['data'], msg);\n        var data = msg['content']['data'];\n        if (data['blob'] !== undefined) {\n            data = {\n                data: new Blob(msg['buffers'], { type: data['blob'] }),\n            };\n        }\n        // Pass the mpl event to the overridden (by mpl) onmessage function.\n        ws.onmessage(data);\n    });\n    return ws;\n};\n\nmpl.mpl_figure_comm = function (comm, msg) {\n    // This is the function which gets called when the mpl process\n    // starts-up an IPython Comm through the \"matplotlib\" channel.\n\n    var id = msg.content.data.id;\n    // Get hold of the div created by the display call when the Comm\n    // socket was opened in Python.\n    var element = document.getElementById(id);\n    var ws_proxy = comm_websocket_adapter(comm);\n\n    function ondownload(figure, _format) {\n        window.open(figure.canvas.toDataURL());\n    }\n\n    var fig = new mpl.figure(id, ws_proxy, ondownload, element);\n\n    // Call onopen now - mpl needs it, as it is assuming we've passed it a real\n    // web socket which is closed, not our websocket->open comm proxy.\n    ws_proxy.onopen();\n\n    fig.parent_element = element;\n    fig.cell_info = mpl.find_output_cell(\"<div id='\" + id + \"'></div>\");\n    if (!fig.cell_info) {\n        console.error('Failed to find cell for figure', id, fig);\n        return;\n    }\n    fig.cell_info[0].output_area.element.on(\n        'cleared',\n        { fig: fig },\n        fig._remove_fig_handler\n    );\n};\n\nmpl.figure.prototype.handle_close = function (fig, msg) {\n    var width = fig.canvas.width / fig.ratio;\n    fig.cell_info[0].output_area.element.off(\n        'cleared',\n        fig._remove_fig_handler\n    );\n    fig.resizeObserverInstance.unobserve(fig.canvas_div);\n\n    // Update the output cell to use the data from the current canvas.\n    fig.push_to_output();\n    var dataURL = fig.canvas.toDataURL();\n    // Re-enable the keyboard manager in IPython - without this line, in FF,\n    // the notebook keyboard shortcuts fail.\n    IPython.keyboard_manager.enable();\n    fig.parent_element.innerHTML =\n        '<img src=\"' + dataURL + '\" width=\"' + width + '\">';\n    fig.close_ws(fig, msg);\n};\n\nmpl.figure.prototype.close_ws = function (fig, msg) {\n    fig.send_message('closing', msg);\n    // fig.ws.close()\n};\n\nmpl.figure.prototype.push_to_output = function (_remove_interactive) {\n    // Turn the data on the canvas into data in the output cell.\n    var width = this.canvas.width / this.ratio;\n    var dataURL = this.canvas.toDataURL();\n    this.cell_info[1]['text/html'] =\n        '<img src=\"' + dataURL + '\" width=\"' + width + '\">';\n};\n\nmpl.figure.prototype.updated_canvas_event = function () {\n    // Tell IPython that the notebook contents must change.\n    IPython.notebook.set_dirty(true);\n    this.send_message('ack', {});\n    var fig = this;\n    // Wait a second, then push the new image to the DOM so\n    // that it is saved nicely (might be nice to debounce this).\n    setTimeout(function () {\n        fig.push_to_output();\n    }, 1000);\n};\n\nmpl.figure.prototype._init_toolbar = function () {\n    var fig = this;\n\n    var toolbar = document.createElement('div');\n    toolbar.classList = 'btn-toolbar';\n    this.root.appendChild(toolbar);\n\n    function on_click_closure(name) {\n        return function (_event) {\n            return fig.toolbar_button_onclick(name);\n        };\n    }\n\n    function on_mouseover_closure(tooltip) {\n        return function (event) {\n            if (!event.currentTarget.disabled) {\n                return fig.toolbar_button_onmouseover(tooltip);\n            }\n        };\n    }\n\n    fig.buttons = {};\n    var buttonGroup = document.createElement('div');\n    buttonGroup.classList = 'btn-group';\n    var button;\n    for (var toolbar_ind in mpl.toolbar_items) {\n        var name = mpl.toolbar_items[toolbar_ind][0];\n        var tooltip = mpl.toolbar_items[toolbar_ind][1];\n        var image = mpl.toolbar_items[toolbar_ind][2];\n        var method_name = mpl.toolbar_items[toolbar_ind][3];\n\n        if (!name) {\n            /* Instead of a spacer, we start a new button group. */\n            if (buttonGroup.hasChildNodes()) {\n                toolbar.appendChild(buttonGroup);\n            }\n            buttonGroup = document.createElement('div');\n            buttonGroup.classList = 'btn-group';\n            continue;\n        }\n\n        button = fig.buttons[name] = document.createElement('button');\n        button.classList = 'btn btn-default';\n        button.href = '#';\n        button.title = name;\n        button.innerHTML = '<i class=\"fa ' + image + ' fa-lg\"></i>';\n        button.addEventListener('click', on_click_closure(method_name));\n        button.addEventListener('mouseover', on_mouseover_closure(tooltip));\n        buttonGroup.appendChild(button);\n    }\n\n    if (buttonGroup.hasChildNodes()) {\n        toolbar.appendChild(buttonGroup);\n    }\n\n    // Add the status bar.\n    var status_bar = document.createElement('span');\n    status_bar.classList = 'mpl-message pull-right';\n    toolbar.appendChild(status_bar);\n    this.message = status_bar;\n\n    // Add the close button to the window.\n    var buttongrp = document.createElement('div');\n    buttongrp.classList = 'btn-group inline pull-right';\n    button = document.createElement('button');\n    button.classList = 'btn btn-mini btn-primary';\n    button.href = '#';\n    button.title = 'Stop Interaction';\n    button.innerHTML = '<i class=\"fa fa-power-off icon-remove icon-large\"></i>';\n    button.addEventListener('click', function (_evt) {\n        fig.handle_close(fig, {});\n    });\n    button.addEventListener(\n        'mouseover',\n        on_mouseover_closure('Stop Interaction')\n    );\n    buttongrp.appendChild(button);\n    var titlebar = this.root.querySelector('.ui-dialog-titlebar');\n    titlebar.insertBefore(buttongrp, titlebar.firstChild);\n};\n\nmpl.figure.prototype._remove_fig_handler = function (event) {\n    var fig = event.data.fig;\n    if (event.target !== this) {\n        // Ignore bubbled events from children.\n        return;\n    }\n    fig.close_ws(fig, {});\n};\n\nmpl.figure.prototype._root_extra_style = function (el) {\n    el.style.boxSizing = 'content-box'; // override notebook setting of border-box.\n};\n\nmpl.figure.prototype._canvas_extra_style = function (el) {\n    // this is important to make the div 'focusable\n    el.setAttribute('tabindex', 0);\n    // reach out to IPython and tell the keyboard manager to turn it's self\n    // off when our div gets focus\n\n    // location in version 3\n    if (IPython.notebook.keyboard_manager) {\n        IPython.notebook.keyboard_manager.register_events(el);\n    } else {\n        // location in version 2\n        IPython.keyboard_manager.register_events(el);\n    }\n};\n\nmpl.figure.prototype._key_event_extra = function (event, _name) {\n    // Check for shift+enter\n    if (event.shiftKey && event.which === 13) {\n        this.canvas_div.blur();\n        // select the cell after this one\n        var index = IPython.notebook.find_cell_index(this.cell_info[0]);\n        IPython.notebook.select(index + 1);\n    }\n};\n\nmpl.figure.prototype.handle_save = function (fig, _msg) {\n    fig.ondownload(fig, null);\n};\n\nmpl.find_output_cell = function (html_output) {\n    // Return the cell and output element which can be found *uniquely* in the notebook.\n    // Note - this is a bit hacky, but it is done because the \"notebook_saving.Notebook\"\n    // IPython event is triggered only after the cells have been serialised, which for\n    // our purposes (turning an active figure into a static one), is too late.\n    var cells = IPython.notebook.get_cells();\n    var ncells = cells.length;\n    for (var i = 0; i < ncells; i++) {\n        var cell = cells[i];\n        if (cell.cell_type === 'code') {\n            for (var j = 0; j < cell.output_area.outputs.length; j++) {\n                var data = cell.output_area.outputs[j];\n                if (data.data) {\n                    // IPython >= 3 moved mimebundle to data attribute of output\n                    data = data.data;\n                }\n                if (data['text/html'] === html_output) {\n                    return [cell, data, j];\n                }\n            }\n        }\n    }\n};\n\n// Register the function which deals with the matplotlib target/channel.\n// The kernel may be null if the page has been refreshed.\nif (IPython.notebook.kernel !== null) {\n    IPython.notebook.kernel.comm_manager.register_target(\n        'matplotlib',\n        mpl.mpl_figure_comm\n    );\n}\n"
     },
     "metadata": {},
     "output_type": "display_data"
    },
    {
     "data": {
      "text/plain": "<IPython.core.display.HTML object>",
      "text/html": "<div id='0a091957-cf86-4fb5-ad57-eda7fd3edba1'></div>"
     },
     "metadata": {},
     "output_type": "display_data"
    }
   ],
   "source": [
    "plt.figure(figsize=(4, 4))\n",
    "\n",
    "for station in sorted(stations, key=lambda x: x[\"id\"]):\n",
    "    plt.plot(\n",
    "        [detection[\"timestamp\"] for detection in team_detections[6] if detection[\"stationId\"] == station[\"id\"]],\n",
    "        [detection[\"rssi\"] for detection in team_detections[6] if detection[\"stationId\"] == station[\"id\"]],\n",
    "        'o', label=station[\"name\"]\n",
    "    )\n",
    "\n",
    "plt.legend()\n",
    "plt.show()"
   ]
  }
 ],
 "metadata": {
  "kernelspec": {
   "display_name": "Python 3 (ipykernel)",
   "language": "python",
   "name": "python3"
  },
  "language_info": {
   "codemirror_mode": {
    "name": "ipython",
    "version": 3
   },
   "file_extension": ".py",
   "mimetype": "text/x-python",
   "name": "python",
   "nbconvert_exporter": "python",
   "pygments_lexer": "ipython3",
   "version": "3.11.0"
  }
 },
 "nbformat": 4,
 "nbformat_minor": 4
}